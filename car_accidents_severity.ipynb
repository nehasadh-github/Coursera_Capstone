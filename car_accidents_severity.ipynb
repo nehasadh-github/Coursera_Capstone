{
 "cells": [
  {
   "cell_type": "code",
   "execution_count": 15,
   "metadata": {},
   "outputs": [],
   "source": [
    "import pandas as pd\n",
    "import numpy as np\n",
    "import matplotlib.pyplot as plt\n",
    "import seaborn as sns\n"
   ]
  },
  {
   "cell_type": "code",
   "execution_count": 20,
   "metadata": {},
   "outputs": [],
   "source": [
    "filepath = r\"C:\\Users\\Neha Sadh\\Desktop\\github\\Data-Collisions\\Collisions.csv\" \n",
    "df_whole = pd.read_csv(filepath)"
   ]
  },
  {
   "cell_type": "code",
   "execution_count": 21,
   "metadata": {},
   "outputs": [
    {
     "data": {
      "text/plain": [
       "(221266, 40)"
      ]
     },
     "execution_count": 21,
     "metadata": {},
     "output_type": "execute_result"
    }
   ],
   "source": [
    "df_whole.shape"
   ]
  },
  {
   "cell_type": "code",
   "execution_count": 22,
   "metadata": {},
   "outputs": [
    {
     "data": {
      "text/plain": [
       "Index(['X', 'Y', 'OBJECTID', 'INCKEY', 'COLDETKEY', 'REPORTNO', 'STATUS',\n",
       "       'ADDRTYPE', 'INTKEY', 'LOCATION', 'EXCEPTRSNCODE', 'EXCEPTRSNDESC',\n",
       "       'SEVERITYCODE', 'SEVERITYDESC', 'COLLISIONTYPE', 'PERSONCOUNT',\n",
       "       'PEDCOUNT', 'PEDCYLCOUNT', 'VEHCOUNT', 'INJURIES', 'SERIOUSINJURIES',\n",
       "       'FATALITIES', 'INCDATE', 'INCDTTM', 'JUNCTIONTYPE', 'SDOT_COLCODE',\n",
       "       'SDOT_COLDESC', 'INATTENTIONIND', 'UNDERINFL', 'WEATHER', 'ROADCOND',\n",
       "       'LIGHTCOND', 'PEDROWNOTGRNT', 'SDOTCOLNUM', 'SPEEDING', 'ST_COLCODE',\n",
       "       'ST_COLDESC', 'SEGLANEKEY', 'CROSSWALKKEY', 'HITPARKEDCAR'],\n",
       "      dtype='object')"
      ]
     },
     "execution_count": 22,
     "metadata": {},
     "output_type": "execute_result"
    }
   ],
   "source": [
    "df_whole.columns"
   ]
  },
  {
   "cell_type": "code",
   "execution_count": 23,
   "metadata": {},
   "outputs": [],
   "source": [
    "df = df_whole[['SEVERITYCODE','SEVERITYDESC', 'ADDRTYPE', 'INCDATE','INCDTTM', 'JUNCTIONTYPE', 'INATTENTIONIND', 'UNDERINFL', 'WEATHER', 'ROADCOND', 'LIGHTCOND','SPEEDING', 'HITPARKEDCAR']]\n",
    "\n",
    "df_map = df_whole[['SEVERITYCODE','ADDRTYPE','X', 'Y']]"
   ]
  },
  {
   "cell_type": "code",
   "execution_count": 24,
   "metadata": {},
   "outputs": [
    {
     "data": {
      "text/plain": [
       "(221266, 13)"
      ]
     },
     "execution_count": 24,
     "metadata": {},
     "output_type": "execute_result"
    }
   ],
   "source": [
    "df.shape"
   ]
  },
  {
   "cell_type": "code",
   "execution_count": 25,
   "metadata": {},
   "outputs": [
    {
     "name": "stdout",
     "output_type": "stream",
     "text": [
      "<class 'pandas.core.frame.DataFrame'>\n",
      "RangeIndex: 221266 entries, 0 to 221265\n",
      "Data columns (total 13 columns):\n",
      "SEVERITYCODE      221265 non-null object\n",
      "SEVERITYDESC      221266 non-null object\n",
      "ADDRTYPE          217554 non-null object\n",
      "INCDATE           221266 non-null object\n",
      "INCDTTM           221266 non-null object\n",
      "JUNCTIONTYPE      209299 non-null object\n",
      "INATTENTIONIND    30188 non-null object\n",
      "UNDERINFL         194787 non-null object\n",
      "WEATHER           194578 non-null object\n",
      "ROADCOND          194658 non-null object\n",
      "LIGHTCOND         194490 non-null object\n",
      "SPEEDING          9913 non-null object\n",
      "HITPARKEDCAR      221266 non-null object\n",
      "dtypes: object(13)\n",
      "memory usage: 21.9+ MB\n"
     ]
    }
   ],
   "source": [
    "df.info()"
   ]
  },
  {
   "cell_type": "markdown",
   "metadata": {},
   "source": [
    "### identify and handling misiing values"
   ]
  },
  {
   "cell_type": "markdown",
   "metadata": {},
   "source": [
    "#### identify missing data"
   ]
  },
  {
   "cell_type": "markdown",
   "metadata": {},
   "source": [
    "##### Convert \"?\" to NaN In the car dataset, missing data comes with the question mark \"?\". We replace \"?\" with NaN (Not a Number), which is Python's default missing value marker, for reasons of computational speed and convenience."
   ]
  },
  {
   "cell_type": "code",
   "execution_count": 26,
   "metadata": {},
   "outputs": [],
   "source": [
    "df.replace(\"?\", np.nan, inplace = True)"
   ]
  },
  {
   "cell_type": "code",
   "execution_count": 27,
   "metadata": {},
   "outputs": [
    {
     "data": {
      "text/html": [
       "<div>\n",
       "<style scoped>\n",
       "    .dataframe tbody tr th:only-of-type {\n",
       "        vertical-align: middle;\n",
       "    }\n",
       "\n",
       "    .dataframe tbody tr th {\n",
       "        vertical-align: top;\n",
       "    }\n",
       "\n",
       "    .dataframe thead th {\n",
       "        text-align: right;\n",
       "    }\n",
       "</style>\n",
       "<table border=\"1\" class=\"dataframe\">\n",
       "  <thead>\n",
       "    <tr style=\"text-align: right;\">\n",
       "      <th></th>\n",
       "      <th>SEVERITYCODE</th>\n",
       "      <th>SEVERITYDESC</th>\n",
       "      <th>ADDRTYPE</th>\n",
       "      <th>INCDATE</th>\n",
       "      <th>INCDTTM</th>\n",
       "      <th>JUNCTIONTYPE</th>\n",
       "      <th>INATTENTIONIND</th>\n",
       "      <th>UNDERINFL</th>\n",
       "      <th>WEATHER</th>\n",
       "      <th>ROADCOND</th>\n",
       "      <th>LIGHTCOND</th>\n",
       "      <th>SPEEDING</th>\n",
       "      <th>HITPARKEDCAR</th>\n",
       "    </tr>\n",
       "  </thead>\n",
       "  <tbody>\n",
       "    <tr>\n",
       "      <td>0</td>\n",
       "      <td>False</td>\n",
       "      <td>False</td>\n",
       "      <td>False</td>\n",
       "      <td>False</td>\n",
       "      <td>False</td>\n",
       "      <td>False</td>\n",
       "      <td>True</td>\n",
       "      <td>False</td>\n",
       "      <td>False</td>\n",
       "      <td>False</td>\n",
       "      <td>False</td>\n",
       "      <td>True</td>\n",
       "      <td>False</td>\n",
       "    </tr>\n",
       "    <tr>\n",
       "      <td>1</td>\n",
       "      <td>False</td>\n",
       "      <td>False</td>\n",
       "      <td>False</td>\n",
       "      <td>False</td>\n",
       "      <td>False</td>\n",
       "      <td>False</td>\n",
       "      <td>True</td>\n",
       "      <td>False</td>\n",
       "      <td>False</td>\n",
       "      <td>False</td>\n",
       "      <td>False</td>\n",
       "      <td>True</td>\n",
       "      <td>False</td>\n",
       "    </tr>\n",
       "    <tr>\n",
       "      <td>2</td>\n",
       "      <td>False</td>\n",
       "      <td>False</td>\n",
       "      <td>False</td>\n",
       "      <td>False</td>\n",
       "      <td>False</td>\n",
       "      <td>False</td>\n",
       "      <td>True</td>\n",
       "      <td>False</td>\n",
       "      <td>False</td>\n",
       "      <td>False</td>\n",
       "      <td>False</td>\n",
       "      <td>True</td>\n",
       "      <td>False</td>\n",
       "    </tr>\n",
       "    <tr>\n",
       "      <td>3</td>\n",
       "      <td>False</td>\n",
       "      <td>False</td>\n",
       "      <td>False</td>\n",
       "      <td>False</td>\n",
       "      <td>False</td>\n",
       "      <td>False</td>\n",
       "      <td>True</td>\n",
       "      <td>False</td>\n",
       "      <td>False</td>\n",
       "      <td>False</td>\n",
       "      <td>False</td>\n",
       "      <td>True</td>\n",
       "      <td>False</td>\n",
       "    </tr>\n",
       "    <tr>\n",
       "      <td>4</td>\n",
       "      <td>False</td>\n",
       "      <td>False</td>\n",
       "      <td>False</td>\n",
       "      <td>False</td>\n",
       "      <td>False</td>\n",
       "      <td>False</td>\n",
       "      <td>True</td>\n",
       "      <td>True</td>\n",
       "      <td>True</td>\n",
       "      <td>True</td>\n",
       "      <td>True</td>\n",
       "      <td>True</td>\n",
       "      <td>False</td>\n",
       "    </tr>\n",
       "    <tr>\n",
       "      <td>5</td>\n",
       "      <td>False</td>\n",
       "      <td>False</td>\n",
       "      <td>False</td>\n",
       "      <td>False</td>\n",
       "      <td>False</td>\n",
       "      <td>False</td>\n",
       "      <td>True</td>\n",
       "      <td>True</td>\n",
       "      <td>True</td>\n",
       "      <td>True</td>\n",
       "      <td>True</td>\n",
       "      <td>True</td>\n",
       "      <td>False</td>\n",
       "    </tr>\n",
       "  </tbody>\n",
       "</table>\n",
       "</div>"
      ],
      "text/plain": [
       "   SEVERITYCODE  SEVERITYDESC  ADDRTYPE  INCDATE  INCDTTM  JUNCTIONTYPE  \\\n",
       "0         False         False     False    False    False         False   \n",
       "1         False         False     False    False    False         False   \n",
       "2         False         False     False    False    False         False   \n",
       "3         False         False     False    False    False         False   \n",
       "4         False         False     False    False    False         False   \n",
       "5         False         False     False    False    False         False   \n",
       "\n",
       "   INATTENTIONIND  UNDERINFL  WEATHER  ROADCOND  LIGHTCOND  SPEEDING  \\\n",
       "0            True      False    False     False      False      True   \n",
       "1            True      False    False     False      False      True   \n",
       "2            True      False    False     False      False      True   \n",
       "3            True      False    False     False      False      True   \n",
       "4            True       True     True      True       True      True   \n",
       "5            True       True     True      True       True      True   \n",
       "\n",
       "   HITPARKEDCAR  \n",
       "0         False  \n",
       "1         False  \n",
       "2         False  \n",
       "3         False  \n",
       "4         False  \n",
       "5         False  "
      ]
     },
     "execution_count": 27,
     "metadata": {},
     "output_type": "execute_result"
    }
   ],
   "source": [
    "df.isnull().head(6)"
   ]
  },
  {
   "cell_type": "code",
   "execution_count": 28,
   "metadata": {},
   "outputs": [
    {
     "name": "stdout",
     "output_type": "stream",
     "text": [
      "SEVERITYCODE\n",
      "False    221265\n",
      "True          1\n",
      "Name: SEVERITYCODE, dtype: int64\n",
      "-----------------------------------\n",
      "SEVERITYDESC\n",
      "False    221266\n",
      "Name: SEVERITYDESC, dtype: int64\n",
      "-----------------------------------\n",
      "ADDRTYPE\n",
      "False    217554\n",
      "True       3712\n",
      "Name: ADDRTYPE, dtype: int64\n",
      "-----------------------------------\n",
      "INCDATE\n",
      "False    221266\n",
      "Name: INCDATE, dtype: int64\n",
      "-----------------------------------\n",
      "INCDTTM\n",
      "False    221266\n",
      "Name: INCDTTM, dtype: int64\n",
      "-----------------------------------\n",
      "JUNCTIONTYPE\n",
      "False    209299\n",
      "True      11967\n",
      "Name: JUNCTIONTYPE, dtype: int64\n",
      "-----------------------------------\n",
      "INATTENTIONIND\n",
      "True     191078\n",
      "False     30188\n",
      "Name: INATTENTIONIND, dtype: int64\n",
      "-----------------------------------\n",
      "UNDERINFL\n",
      "False    194787\n",
      "True      26479\n",
      "Name: UNDERINFL, dtype: int64\n",
      "-----------------------------------\n",
      "WEATHER\n",
      "False    194578\n",
      "True      26688\n",
      "Name: WEATHER, dtype: int64\n",
      "-----------------------------------\n",
      "ROADCOND\n",
      "False    194658\n",
      "True      26608\n",
      "Name: ROADCOND, dtype: int64\n",
      "-----------------------------------\n",
      "LIGHTCOND\n",
      "False    194490\n",
      "True      26776\n",
      "Name: LIGHTCOND, dtype: int64\n",
      "-----------------------------------\n",
      "SPEEDING\n",
      "True     211353\n",
      "False      9913\n",
      "Name: SPEEDING, dtype: int64\n",
      "-----------------------------------\n",
      "HITPARKEDCAR\n",
      "False    221266\n",
      "Name: HITPARKEDCAR, dtype: int64\n",
      "-----------------------------------\n"
     ]
    }
   ],
   "source": [
    "missing_data = df.isnull()\n",
    "for column in missing_data.columns.values.tolist():\n",
    "    print(column)\n",
    "    print (missing_data[column].value_counts())\n",
    "    print(\"-----------------------------------\")"
   ]
  },
  {
   "cell_type": "markdown",
   "metadata": {},
   "source": [
    "##### Replace missing value by the most frequency:"
   ]
  },
  {
   "cell_type": "code",
   "execution_count": 29,
   "metadata": {},
   "outputs": [
    {
     "data": {
      "text/plain": [
       "Block           148569\n",
       "Intersection     71823\n",
       "Alley              874\n",
       "Name: ADDRTYPE, dtype: int64"
      ]
     },
     "execution_count": 29,
     "metadata": {},
     "output_type": "execute_result"
    }
   ],
   "source": [
    "df[\"ADDRTYPE\"].replace(np.nan, df['ADDRTYPE'].value_counts().idxmax(), inplace=True)\n",
    "df['ADDRTYPE'].value_counts()"
   ]
  },
  {
   "cell_type": "code",
   "execution_count": 30,
   "metadata": {},
   "outputs": [
    {
     "data": {
      "text/plain": [
       "Mid-Block (not related to intersection)    113567\n",
       "At-Intersection                             71612\n",
       "Mid-Block (but intersection related)        24402\n",
       "RampDriveway                                11685\n",
       "Name: JUNCTIONTYPE, dtype: int64"
      ]
     },
     "execution_count": 30,
     "metadata": {},
     "output_type": "execute_result"
    }
   ],
   "source": [
    "df[\"JUNCTIONTYPE\"].replace(np.nan, df['JUNCTIONTYPE'].value_counts().idxmax(), inplace=True)\n",
    "df[\"JUNCTIONTYPE\"].replace(\"Unknown\", df['JUNCTIONTYPE'].value_counts().idxmax(), inplace=True)\n",
    "df[\"JUNCTIONTYPE\"].replace(\"Ramp Junction\", 'RampDriveway', inplace=True)\n",
    "df[\"JUNCTIONTYPE\"].replace(\"Driveway Junction\", 'RampDriveway', inplace=True)\n",
    "df[\"JUNCTIONTYPE\"].replace(\"At Intersection (intersection related)\", 'At-Intersection', inplace=True)\n",
    "df[\"JUNCTIONTYPE\"].replace(\"At Intersection (but not related to intersection)\", 'At-Intersection', inplace=True)\n",
    "df['JUNCTIONTYPE'].value_counts()"
   ]
  },
  {
   "cell_type": "code",
   "execution_count": 31,
   "metadata": {},
   "outputs": [
    {
     "data": {
      "text/plain": [
       "0    211637\n",
       "1      9629\n",
       "Name: UNDERINFL, dtype: int64"
      ]
     },
     "execution_count": 31,
     "metadata": {},
     "output_type": "execute_result"
    }
   ],
   "source": [
    "df[\"UNDERINFL\"].replace(np.nan, df['UNDERINFL'].value_counts().idxmax(), inplace=True)\n",
    "df['UNDERINFL'] = df['UNDERINFL'].map({'N': 0, '0': 0, 'Y': 1, '1': 1})\n",
    "\"\"\"\n",
    "df[\"UNDERINFL\"].replace(\"0\", \"N\", inplace=True)\n",
    "df[\"UNDERINFL\"].replace(\"1\", \"Y\", inplace=True)\n",
    "\"\"\"\n",
    "df['UNDERINFL'].value_counts()"
   ]
  },
  {
   "cell_type": "code",
   "execution_count": 32,
   "metadata": {},
   "outputs": [
    {
     "data": {
      "text/plain": [
       "Clear           141049\n",
       "RainSnow         35715\n",
       "Overcast         28517\n",
       "Unknown          15984\n",
       "Blowing Snow         1\n",
       "Name: WEATHER, dtype: int64"
      ]
     },
     "execution_count": 32,
     "metadata": {},
     "output_type": "execute_result"
    }
   ],
   "source": [
    "df[\"WEATHER\"].replace(np.nan, df['WEATHER'].value_counts().idxmax(), inplace=True)\n",
    "df[\"WEATHER\"].replace(\"Other\",\"Unknown\",inplace=True)\n",
    "df[\"WEATHER\"].replace(\"Partly Cloudy\",\"Overcast\",inplace=True)\n",
    "df[\"WEATHER\"].replace(\"Raining\",\"RainSnow\",inplace=True)\n",
    "df[\"WEATHER\"].replace(\"Snowing\",\"RainSnow\",inplace=True)\n",
    "df[\"WEATHER\"].replace(\"Sleet/Hail/Freezing Rain\",\"RainSnow\",inplace=True)\n",
    "df[\"WEATHER\"].replace(\"Fog/Smog/Smoke\",\"RainSnow\",inplace=True)\n",
    "df[\"WEATHER\"].replace(\"Blowing Sand/Dirt\",\"RainSnow\",inplace=True)\n",
    "df[\"WEATHER\"].replace(\"Severe Crosswind\",\"RainSnow\",inplace=True)\n",
    "df['WEATHER'].value_counts()"
   ]
  },
  {
   "cell_type": "code",
   "execution_count": 33,
   "metadata": {},
   "outputs": [
    {
     "data": {
      "text/plain": [
       "Dry                154779\n",
       "Wet                 48715\n",
       "Unknown             15267\n",
       "IceOilWaterSnow      2505\n",
       "Name: ROADCOND, dtype: int64"
      ]
     },
     "execution_count": 33,
     "metadata": {},
     "output_type": "execute_result"
    }
   ],
   "source": [
    "df[\"ROADCOND\"].replace(np.nan, df['ROADCOND'].value_counts().idxmax(), inplace=True)\n",
    "df[\"ROADCOND\"].replace(\"Ice\", \"IceOilWaterSnow\", inplace=True)\n",
    "df[\"ROADCOND\"].replace(\"Standing Water\", \"IceOilWaterSnow\", inplace=True)\n",
    "df[\"ROADCOND\"].replace(\"Oil\", \"IceOilWaterSnow\", inplace=True)\n",
    "df[\"ROADCOND\"].replace(\"Snow/Slush\", \"IceOilWaterSnow\", inplace=True)\n",
    "df[\"ROADCOND\"].replace(\"Other\", \"Unknown\", inplace=True)\n",
    "df[\"ROADCOND\"].replace(\"Sand/Mud/Dirt\", \"IceOilWaterSnow\", inplace=True)\n",
    "df['ROADCOND'].value_counts()"
   ]
  },
  {
   "cell_type": "code",
   "execution_count": 34,
   "metadata": {},
   "outputs": [
    {
     "data": {
      "text/plain": [
       "Daylight           145942\n",
       "Dark-With-Light     50053\n",
       "Unknown             13767\n",
       "DuskDawn             8675\n",
       "Dark-No-Light        2829\n",
       "Name: LIGHTCOND, dtype: int64"
      ]
     },
     "execution_count": 34,
     "metadata": {},
     "output_type": "execute_result"
    }
   ],
   "source": [
    "df[\"LIGHTCOND\"].replace(np.nan, df['LIGHTCOND'].value_counts().idxmax(), inplace=True)\n",
    "df[\"LIGHTCOND\"].replace(\"Dark - No Street Lights\", \"Dark-No-Light\", inplace=True)\n",
    "df[\"LIGHTCOND\"].replace(\"Dark - Street Lights Off\", \"Dark-No-Light\", inplace=True)\n",
    "df[\"LIGHTCOND\"].replace(\"Dark - Unknown Lighting\", \"Dark-No-Light\", inplace=True)\n",
    "df[\"LIGHTCOND\"].replace(\"Dark - Street Lights On\", \"Dark-With-Light\", inplace=True)\n",
    "df[\"LIGHTCOND\"].replace(\"Other\", \"Unknown\", inplace=True)\n",
    "df[\"LIGHTCOND\"].replace(\"Dusk\", \"DuskDawn\", inplace=True)\n",
    "df[\"LIGHTCOND\"].replace(\"Dawn\", \"DuskDawn\", inplace=True)\n",
    "df['LIGHTCOND'].value_counts()"
   ]
  },
  {
   "cell_type": "code",
   "execution_count": 35,
   "metadata": {},
   "outputs": [
    {
     "data": {
      "text/plain": [
       "count     221266\n",
       "unique         2\n",
       "top            N\n",
       "freq      191078\n",
       "Name: INATTENTIONIND, dtype: object"
      ]
     },
     "execution_count": 35,
     "metadata": {},
     "output_type": "execute_result"
    }
   ],
   "source": [
    "df[\"INATTENTIONIND\"].replace(np.nan, \"N\", inplace=True)\n",
    "df[\"INATTENTIONIND\"].describe()"
   ]
  },
  {
   "cell_type": "code",
   "execution_count": 36,
   "metadata": {},
   "outputs": [
    {
     "data": {
      "text/plain": [
       "count     221266\n",
       "unique         2\n",
       "top            N\n",
       "freq      211353\n",
       "Name: SPEEDING, dtype: object"
      ]
     },
     "execution_count": 36,
     "metadata": {},
     "output_type": "execute_result"
    }
   ],
   "source": [
    "df[\"SPEEDING\"].replace(np.nan, \"N\", inplace=True)\n",
    "df[\"SPEEDING\"].describe()"
   ]
  },
  {
   "cell_type": "code",
   "execution_count": 37,
   "metadata": {},
   "outputs": [
    {
     "data": {
      "text/plain": [
       "count                             221266\n",
       "unique                                 5\n",
       "top       Property Damage Only Collision\n",
       "freq                              137485\n",
       "Name: SEVERITYDESC, dtype: object"
      ]
     },
     "execution_count": 37,
     "metadata": {},
     "output_type": "execute_result"
    }
   ],
   "source": [
    "df[\"SEVERITYDESC\"].describe()"
   ]
  },
  {
   "cell_type": "code",
   "execution_count": 38,
   "metadata": {},
   "outputs": [
    {
     "name": "stdout",
     "output_type": "stream",
     "text": [
      "<class 'pandas.core.frame.DataFrame'>\n",
      "RangeIndex: 221266 entries, 0 to 221265\n",
      "Data columns (total 13 columns):\n",
      "SEVERITYCODE      221265 non-null object\n",
      "SEVERITYDESC      221266 non-null object\n",
      "ADDRTYPE          221266 non-null object\n",
      "INCDATE           221266 non-null object\n",
      "INCDTTM           221266 non-null object\n",
      "JUNCTIONTYPE      221266 non-null object\n",
      "INATTENTIONIND    221266 non-null object\n",
      "UNDERINFL         221266 non-null int64\n",
      "WEATHER           221266 non-null object\n",
      "ROADCOND          221266 non-null object\n",
      "LIGHTCOND         221266 non-null object\n",
      "SPEEDING          221266 non-null object\n",
      "HITPARKEDCAR      221266 non-null object\n",
      "dtypes: int64(1), object(12)\n",
      "memory usage: 21.9+ MB\n"
     ]
    }
   ],
   "source": [
    "df.info()"
   ]
  },
  {
   "cell_type": "markdown",
   "metadata": {},
   "source": [
    "##### Replace missing value by mean:"
   ]
  },
  {
   "cell_type": "code",
   "execution_count": null,
   "metadata": {},
   "outputs": [],
   "source": [
    "avg_norm_loss = df[\"normalized-losses\"].astype(\"float\").mean(axis=0)\n",
    "print(\"Average of normalized-losses:\", avg_norm_loss)"
   ]
  },
  {
   "cell_type": "code",
   "execution_count": null,
   "metadata": {},
   "outputs": [],
   "source": [
    "df[\"normalized-losses\"].replace(np.nan, avg_norm_loss, inplace=True)"
   ]
  },
  {
   "cell_type": "markdown",
   "metadata": {},
   "source": [
    "##### Drop the whole row:"
   ]
  },
  {
   "cell_type": "code",
   "execution_count": 40,
   "metadata": {},
   "outputs": [
    {
     "data": {
      "text/plain": [
       "(213797, 4)"
      ]
     },
     "execution_count": 40,
     "metadata": {},
     "output_type": "execute_result"
    }
   ],
   "source": [
    "df_map.dropna(subset=[\"X\"], axis=0, inplace=True)\n",
    "df_map.shape"
   ]
  },
  {
   "cell_type": "markdown",
   "metadata": {},
   "source": [
    "#### Correct data format"
   ]
  },
  {
   "cell_type": "markdown",
   "metadata": {},
   "source": [
    "##### Convert data types to proper format"
   ]
  },
  {
   "cell_type": "code",
   "execution_count": 41,
   "metadata": {},
   "outputs": [
    {
     "data": {
      "text/plain": [
       "SEVERITYCODE      object\n",
       "SEVERITYDESC      object\n",
       "ADDRTYPE          object\n",
       "INCDATE           object\n",
       "INCDTTM           object\n",
       "JUNCTIONTYPE      object\n",
       "INATTENTIONIND    object\n",
       "UNDERINFL          int64\n",
       "WEATHER           object\n",
       "ROADCOND          object\n",
       "LIGHTCOND         object\n",
       "SPEEDING          object\n",
       "HITPARKEDCAR      object\n",
       "dtype: object"
      ]
     },
     "execution_count": 41,
     "metadata": {},
     "output_type": "execute_result"
    }
   ],
   "source": [
    "df.dtypes"
   ]
  },
  {
   "cell_type": "code",
   "execution_count": 42,
   "metadata": {},
   "outputs": [],
   "source": [
    "df['INCDTTM'] = pd.to_datetime(df['INCDTTM'])\n",
    "df['INCDATE'] = pd.to_datetime(df['INCDATE'])"
   ]
  },
  {
   "cell_type": "code",
   "execution_count": 43,
   "metadata": {},
   "outputs": [
    {
     "data": {
      "text/plain": [
       "SEVERITYCODE                   object\n",
       "SEVERITYDESC                   object\n",
       "ADDRTYPE                       object\n",
       "INCDATE           datetime64[ns, UTC]\n",
       "INCDTTM                datetime64[ns]\n",
       "JUNCTIONTYPE                   object\n",
       "INATTENTIONIND                 object\n",
       "UNDERINFL                       int64\n",
       "WEATHER                        object\n",
       "ROADCOND                       object\n",
       "LIGHTCOND                      object\n",
       "SPEEDING                       object\n",
       "HITPARKEDCAR                   object\n",
       "dtype: object"
      ]
     },
     "execution_count": 43,
     "metadata": {},
     "output_type": "execute_result"
    }
   ],
   "source": [
    "df.dtypes"
   ]
  },
  {
   "cell_type": "code",
   "execution_count": 44,
   "metadata": {},
   "outputs": [
    {
     "data": {
      "text/html": [
       "<div>\n",
       "<style scoped>\n",
       "    .dataframe tbody tr th:only-of-type {\n",
       "        vertical-align: middle;\n",
       "    }\n",
       "\n",
       "    .dataframe tbody tr th {\n",
       "        vertical-align: top;\n",
       "    }\n",
       "\n",
       "    .dataframe thead th {\n",
       "        text-align: right;\n",
       "    }\n",
       "</style>\n",
       "<table border=\"1\" class=\"dataframe\">\n",
       "  <thead>\n",
       "    <tr style=\"text-align: right;\">\n",
       "      <th></th>\n",
       "      <th>SEVERITYCODE</th>\n",
       "      <th>SEVERITYDESC</th>\n",
       "      <th>ADDRTYPE</th>\n",
       "      <th>INCDATE</th>\n",
       "      <th>INCDTTM</th>\n",
       "      <th>JUNCTIONTYPE</th>\n",
       "      <th>INATTENTIONIND</th>\n",
       "      <th>UNDERINFL</th>\n",
       "      <th>WEATHER</th>\n",
       "      <th>ROADCOND</th>\n",
       "      <th>LIGHTCOND</th>\n",
       "      <th>SPEEDING</th>\n",
       "      <th>HITPARKEDCAR</th>\n",
       "      <th>hourofday</th>\n",
       "      <th>dayofweek</th>\n",
       "    </tr>\n",
       "  </thead>\n",
       "  <tbody>\n",
       "    <tr>\n",
       "      <td>0</td>\n",
       "      <td>2</td>\n",
       "      <td>Injury Collision</td>\n",
       "      <td>Intersection</td>\n",
       "      <td>2019-11-20 00:00:00+00:00</td>\n",
       "      <td>2019-11-20 10:25:00</td>\n",
       "      <td>At-Intersection</td>\n",
       "      <td>N</td>\n",
       "      <td>0</td>\n",
       "      <td>Clear</td>\n",
       "      <td>Dry</td>\n",
       "      <td>Daylight</td>\n",
       "      <td>N</td>\n",
       "      <td>N</td>\n",
       "      <td>10</td>\n",
       "      <td>2</td>\n",
       "    </tr>\n",
       "    <tr>\n",
       "      <td>1</td>\n",
       "      <td>2</td>\n",
       "      <td>Injury Collision</td>\n",
       "      <td>Intersection</td>\n",
       "      <td>2019-11-18 00:00:00+00:00</td>\n",
       "      <td>2019-11-18 17:01:00</td>\n",
       "      <td>At-Intersection</td>\n",
       "      <td>N</td>\n",
       "      <td>0</td>\n",
       "      <td>RainSnow</td>\n",
       "      <td>Wet</td>\n",
       "      <td>Dark-With-Light</td>\n",
       "      <td>N</td>\n",
       "      <td>N</td>\n",
       "      <td>17</td>\n",
       "      <td>0</td>\n",
       "    </tr>\n",
       "    <tr>\n",
       "      <td>2</td>\n",
       "      <td>1</td>\n",
       "      <td>Property Damage Only Collision</td>\n",
       "      <td>Block</td>\n",
       "      <td>2020-02-20 00:00:00+00:00</td>\n",
       "      <td>2020-02-20 08:42:00</td>\n",
       "      <td>Mid-Block (not related to intersection)</td>\n",
       "      <td>N</td>\n",
       "      <td>0</td>\n",
       "      <td>Clear</td>\n",
       "      <td>Dry</td>\n",
       "      <td>Daylight</td>\n",
       "      <td>N</td>\n",
       "      <td>N</td>\n",
       "      <td>8</td>\n",
       "      <td>3</td>\n",
       "    </tr>\n",
       "    <tr>\n",
       "      <td>3</td>\n",
       "      <td>1</td>\n",
       "      <td>Property Damage Only Collision</td>\n",
       "      <td>Intersection</td>\n",
       "      <td>2004-06-08 00:00:00+00:00</td>\n",
       "      <td>2004-06-08 00:00:00</td>\n",
       "      <td>At-Intersection</td>\n",
       "      <td>N</td>\n",
       "      <td>0</td>\n",
       "      <td>RainSnow</td>\n",
       "      <td>Wet</td>\n",
       "      <td>Dark-With-Light</td>\n",
       "      <td>N</td>\n",
       "      <td>N</td>\n",
       "      <td>0</td>\n",
       "      <td>1</td>\n",
       "    </tr>\n",
       "    <tr>\n",
       "      <td>4</td>\n",
       "      <td>0</td>\n",
       "      <td>Unknown</td>\n",
       "      <td>Block</td>\n",
       "      <td>2004-10-15 00:00:00+00:00</td>\n",
       "      <td>2004-10-15 00:00:00</td>\n",
       "      <td>Mid-Block (but intersection related)</td>\n",
       "      <td>N</td>\n",
       "      <td>0</td>\n",
       "      <td>Clear</td>\n",
       "      <td>Dry</td>\n",
       "      <td>Daylight</td>\n",
       "      <td>N</td>\n",
       "      <td>N</td>\n",
       "      <td>0</td>\n",
       "      <td>4</td>\n",
       "    </tr>\n",
       "  </tbody>\n",
       "</table>\n",
       "</div>"
      ],
      "text/plain": [
       "  SEVERITYCODE                    SEVERITYDESC      ADDRTYPE  \\\n",
       "0            2                Injury Collision  Intersection   \n",
       "1            2                Injury Collision  Intersection   \n",
       "2            1  Property Damage Only Collision         Block   \n",
       "3            1  Property Damage Only Collision  Intersection   \n",
       "4            0                         Unknown         Block   \n",
       "\n",
       "                    INCDATE             INCDTTM  \\\n",
       "0 2019-11-20 00:00:00+00:00 2019-11-20 10:25:00   \n",
       "1 2019-11-18 00:00:00+00:00 2019-11-18 17:01:00   \n",
       "2 2020-02-20 00:00:00+00:00 2020-02-20 08:42:00   \n",
       "3 2004-06-08 00:00:00+00:00 2004-06-08 00:00:00   \n",
       "4 2004-10-15 00:00:00+00:00 2004-10-15 00:00:00   \n",
       "\n",
       "                              JUNCTIONTYPE INATTENTIONIND  UNDERINFL  \\\n",
       "0                          At-Intersection              N          0   \n",
       "1                          At-Intersection              N          0   \n",
       "2  Mid-Block (not related to intersection)              N          0   \n",
       "3                          At-Intersection              N          0   \n",
       "4     Mid-Block (but intersection related)              N          0   \n",
       "\n",
       "    WEATHER ROADCOND        LIGHTCOND SPEEDING HITPARKEDCAR  hourofday  \\\n",
       "0     Clear      Dry         Daylight        N            N         10   \n",
       "1  RainSnow      Wet  Dark-With-Light        N            N         17   \n",
       "2     Clear      Dry         Daylight        N            N          8   \n",
       "3  RainSnow      Wet  Dark-With-Light        N            N          0   \n",
       "4     Clear      Dry         Daylight        N            N          0   \n",
       "\n",
       "   dayofweek  \n",
       "0          2  \n",
       "1          0  \n",
       "2          3  \n",
       "3          1  \n",
       "4          4  "
      ]
     },
     "execution_count": 44,
     "metadata": {},
     "output_type": "execute_result"
    }
   ],
   "source": [
    "df['hourofday'] = df['INCDTTM'].dt.hour\n",
    "df['dayofweek'] = df['INCDTTM'].dt.dayofweek\n",
    "df.head(5)"
   ]
  },
  {
   "cell_type": "code",
   "execution_count": null,
   "metadata": {},
   "outputs": [],
   "source": [
    "df[[\"bore\", \"stroke\"]] = df[[\"bore\", \"stroke\"]].astype(\"float\")\n",
    "df[[\"normalized-losses\"]] = df[[\"normalized-losses\"]].astype(\"int\")\n",
    "df[[\"price\"]] = df[[\"price\"]].astype(\"float\")\n",
    "df[[\"peak-rpm\"]] = df[[\"peak-rpm\"]].astype(\"float\")"
   ]
  },
  {
   "cell_type": "markdown",
   "metadata": {},
   "source": [
    "##### data_standardization"
   ]
  },
  {
   "cell_type": "code",
   "execution_count": null,
   "metadata": {},
   "outputs": [],
   "source": [
    "df['highway-mpg'] = 235/df[\"highway-mpg\"]\n",
    "df.rename(columns={'highway-mpg':'highway-L/100km'}, inplace=True)\n",
    "df.head()"
   ]
  },
  {
   "cell_type": "markdown",
   "metadata": {},
   "source": [
    "##### Data Normalization"
   ]
  },
  {
   "cell_type": "markdown",
   "metadata": {},
   "source": [
    "Normalization is the process of transforming values of several variables into a similar range. Typical normalizations include scaling the variable so the variable average is 0, scaling the variable so the variance is 1, or scaling variable so the variable values range from 0 to 1"
   ]
  },
  {
   "cell_type": "code",
   "execution_count": null,
   "metadata": {},
   "outputs": [],
   "source": [
    "df['length'] = df['length']/df['length'].max()\n",
    "df['width'] = df['width']/df['width'].max()"
   ]
  },
  {
   "cell_type": "markdown",
   "metadata": {},
   "source": [
    "##### Binning"
   ]
  },
  {
   "cell_type": "markdown",
   "metadata": {},
   "source": [
    "transforming continuous numerical variables into discrete categorical 'bins', for grouped analysis."
   ]
  },
  {
   "cell_type": "code",
   "execution_count": 48,
   "metadata": {},
   "outputs": [
    {
     "data": {
      "text/plain": [
       "<matplotlib.axes._subplots.AxesSubplot at 0x186a81bc188>"
      ]
     },
     "execution_count": 48,
     "metadata": {},
     "output_type": "execute_result"
    },
    {
     "data": {
      "image/png": "[encoded data removed]",
      "text/plain": [
       "<Figure size 432x288 with 1 Axes>"
      ]
     },
     "metadata": {
      "needs_background": "light"
     },
     "output_type": "display_data"
    }
   ],
   "source": [
    "sns.countplot(x =\"X\", data= df_map.head(100), hue=\"SEVERITYCODE\")"
   ]
  },
  {
   "cell_type": "code",
   "execution_count": 49,
   "metadata": {},
   "outputs": [
    {
     "data": {
      "text/html": [
       "<div>\n",
       "<style scoped>\n",
       "    .dataframe tbody tr th:only-of-type {\n",
       "        vertical-align: middle;\n",
       "    }\n",
       "\n",
       "    .dataframe tbody tr th {\n",
       "        vertical-align: top;\n",
       "    }\n",
       "\n",
       "    .dataframe thead th {\n",
       "        text-align: right;\n",
       "    }\n",
       "</style>\n",
       "<table border=\"1\" class=\"dataframe\">\n",
       "  <thead>\n",
       "    <tr style=\"text-align: right;\">\n",
       "      <th></th>\n",
       "      <th>X</th>\n",
       "      <th>X-binned</th>\n",
       "    </tr>\n",
       "  </thead>\n",
       "  <tbody>\n",
       "    <tr>\n",
       "      <td>0</td>\n",
       "      <td>-122.386772</td>\n",
       "      <td>Low</td>\n",
       "    </tr>\n",
       "    <tr>\n",
       "      <td>1</td>\n",
       "      <td>-122.341806</td>\n",
       "      <td>Medium</td>\n",
       "    </tr>\n",
       "    <tr>\n",
       "      <td>2</td>\n",
       "      <td>-122.374899</td>\n",
       "      <td>Low</td>\n",
       "    </tr>\n",
       "    <tr>\n",
       "      <td>3</td>\n",
       "      <td>-122.300758</td>\n",
       "      <td>Medium</td>\n",
       "    </tr>\n",
       "    <tr>\n",
       "      <td>4</td>\n",
       "      <td>-122.313053</td>\n",
       "      <td>Medium</td>\n",
       "    </tr>\n",
       "    <tr>\n",
       "      <td>5</td>\n",
       "      <td>-122.364664</td>\n",
       "      <td>Low</td>\n",
       "    </tr>\n",
       "    <tr>\n",
       "      <td>6</td>\n",
       "      <td>-122.323569</td>\n",
       "      <td>Medium</td>\n",
       "    </tr>\n",
       "    <tr>\n",
       "      <td>7</td>\n",
       "      <td>-122.330904</td>\n",
       "      <td>Medium</td>\n",
       "    </tr>\n",
       "    <tr>\n",
       "      <td>8</td>\n",
       "      <td>-122.328878</td>\n",
       "      <td>Medium</td>\n",
       "    </tr>\n",
       "    <tr>\n",
       "      <td>9</td>\n",
       "      <td>-122.327525</td>\n",
       "      <td>Medium</td>\n",
       "    </tr>\n",
       "  </tbody>\n",
       "</table>\n",
       "</div>"
      ],
      "text/plain": [
       "            X X-binned\n",
       "0 -122.386772      Low\n",
       "1 -122.341806   Medium\n",
       "2 -122.374899      Low\n",
       "3 -122.300758   Medium\n",
       "4 -122.313053   Medium\n",
       "5 -122.364664      Low\n",
       "6 -122.323569   Medium\n",
       "7 -122.330904   Medium\n",
       "8 -122.328878   Medium\n",
       "9 -122.327525   Medium"
      ]
     },
     "execution_count": 49,
     "metadata": {},
     "output_type": "execute_result"
    }
   ],
   "source": [
    "bins = np.linspace(min(df_map[\"X\"]), max(df_map[\"X\"]), 4)\n",
    "group_names = ['Low', 'Medium', 'High']\n",
    "df_map['X-binned'] = pd.cut(df_map['X'], bins, labels=group_names, include_lowest=True )\n",
    "df_map[['X','X-binned']].head(10)"
   ]
  },
  {
   "cell_type": "code",
   "execution_count": 50,
   "metadata": {},
   "outputs": [
    {
     "data": {
      "text/plain": [
       "<matplotlib.axes._subplots.AxesSubplot at 0x186aae85188>"
      ]
     },
     "execution_count": 50,
     "metadata": {},
     "output_type": "execute_result"
    },
    {
     "data": {
      "image/png": "[encoded data removed]",
      "text/plain": [
       "<Figure size 432x288 with 1 Axes>"
      ]
     },
     "metadata": {
      "needs_background": "light"
     },
     "output_type": "display_data"
    }
   ],
   "source": [
    "sns.countplot(x =\"X-binned\", data= df_map.head(100), hue=\"SEVERITYCODE\")"
   ]
  },
  {
   "cell_type": "code",
   "execution_count": 51,
   "metadata": {},
   "outputs": [
    {
     "data": {
      "image/png": "[encoded data removed]",
      "text/plain": [
       "<Figure size 504x360 with 1 Axes>"
      ]
     },
     "metadata": {
      "needs_background": "light"
     },
     "output_type": "display_data"
    }
   ],
   "source": [
    "fig, ax = plt.subplots(figsize=(7,5))\n",
    "\n",
    "sns.countplot(x =\"X-binned\", data= df_map.head(100), hue=\"SEVERITYCODE\", ax=ax)\n",
    "\n",
    "# make adjustments\n",
    "ax.set_xlabel('Sepal Length')\n",
    "ax.set_ylabel('Sepal Width')\n",
    "\n",
    "ax.text(x=0.5, y=1.1, s='Sepal Length vs Width', fontsize=16, weight='bold', ha='center', va='bottom', transform=ax.transAxes)\n",
    "ax.text(x=0.5, y=1.05, s='The size of each point corresponds to sepal width', fontsize=8, alpha=0.75, ha='center', va='bottom', transform=ax.transAxes)\n",
    "\n",
    "h,l = ax.get_legend_handles_labels()\n",
    "ax.legend(h[:4],l[:4], bbox_to_anchor=(1.05, 1), loc=2)\n",
    "\n",
    "fig.tight_layout()\n",
    "plt.show()"
   ]
  },
  {
   "cell_type": "markdown",
   "metadata": {},
   "source": [
    "##### Indicator variable (or dummy variable)"
   ]
  },
  {
   "cell_type": "code",
   "execution_count": 52,
   "metadata": {},
   "outputs": [
    {
     "data": {
      "text/html": [
       "<div>\n",
       "<style scoped>\n",
       "    .dataframe tbody tr th:only-of-type {\n",
       "        vertical-align: middle;\n",
       "    }\n",
       "\n",
       "    .dataframe tbody tr th {\n",
       "        vertical-align: top;\n",
       "    }\n",
       "\n",
       "    .dataframe thead th {\n",
       "        text-align: right;\n",
       "    }\n",
       "</style>\n",
       "<table border=\"1\" class=\"dataframe\">\n",
       "  <thead>\n",
       "    <tr style=\"text-align: right;\">\n",
       "      <th></th>\n",
       "      <th>AddType-Block</th>\n",
       "      <th>AddType-Intersection</th>\n",
       "    </tr>\n",
       "  </thead>\n",
       "  <tbody>\n",
       "    <tr>\n",
       "      <td>0</td>\n",
       "      <td>0</td>\n",
       "      <td>1</td>\n",
       "    </tr>\n",
       "    <tr>\n",
       "      <td>1</td>\n",
       "      <td>0</td>\n",
       "      <td>1</td>\n",
       "    </tr>\n",
       "    <tr>\n",
       "      <td>2</td>\n",
       "      <td>1</td>\n",
       "      <td>0</td>\n",
       "    </tr>\n",
       "    <tr>\n",
       "      <td>3</td>\n",
       "      <td>0</td>\n",
       "      <td>1</td>\n",
       "    </tr>\n",
       "    <tr>\n",
       "      <td>4</td>\n",
       "      <td>1</td>\n",
       "      <td>0</td>\n",
       "    </tr>\n",
       "  </tbody>\n",
       "</table>\n",
       "</div>"
      ],
      "text/plain": [
       "   AddType-Block  AddType-Intersection\n",
       "0              0                     1\n",
       "1              0                     1\n",
       "2              1                     0\n",
       "3              0                     1\n",
       "4              1                     0"
      ]
     },
     "execution_count": 52,
     "metadata": {},
     "output_type": "execute_result"
    }
   ],
   "source": [
    "dummy_variable_1 = pd.get_dummies(df_map[\"ADDRTYPE\"])\n",
    "dummy_variable_1.rename(columns={'Block':'AddType-Block', 'Intersection':'AddType-Intersection'}, inplace=True)\n",
    "dummy_variable_1.head()"
   ]
  },
  {
   "cell_type": "code",
   "execution_count": 53,
   "metadata": {},
   "outputs": [
    {
     "data": {
      "text/html": [
       "<div>\n",
       "<style scoped>\n",
       "    .dataframe tbody tr th:only-of-type {\n",
       "        vertical-align: middle;\n",
       "    }\n",
       "\n",
       "    .dataframe tbody tr th {\n",
       "        vertical-align: top;\n",
       "    }\n",
       "\n",
       "    .dataframe thead th {\n",
       "        text-align: right;\n",
       "    }\n",
       "</style>\n",
       "<table border=\"1\" class=\"dataframe\">\n",
       "  <thead>\n",
       "    <tr style=\"text-align: right;\">\n",
       "      <th></th>\n",
       "      <th>SEVERITYCODE</th>\n",
       "      <th>ADDRTYPE</th>\n",
       "      <th>X</th>\n",
       "      <th>Y</th>\n",
       "      <th>X-binned</th>\n",
       "      <th>AddType-Block</th>\n",
       "      <th>AddType-Intersection</th>\n",
       "    </tr>\n",
       "  </thead>\n",
       "  <tbody>\n",
       "    <tr>\n",
       "      <td>0</td>\n",
       "      <td>2</td>\n",
       "      <td>Intersection</td>\n",
       "      <td>-122.386772</td>\n",
       "      <td>47.564720</td>\n",
       "      <td>Low</td>\n",
       "      <td>0</td>\n",
       "      <td>1</td>\n",
       "    </tr>\n",
       "    <tr>\n",
       "      <td>1</td>\n",
       "      <td>2</td>\n",
       "      <td>Intersection</td>\n",
       "      <td>-122.341806</td>\n",
       "      <td>47.686934</td>\n",
       "      <td>Medium</td>\n",
       "      <td>0</td>\n",
       "      <td>1</td>\n",
       "    </tr>\n",
       "    <tr>\n",
       "      <td>2</td>\n",
       "      <td>1</td>\n",
       "      <td>Block</td>\n",
       "      <td>-122.374899</td>\n",
       "      <td>47.668666</td>\n",
       "      <td>Low</td>\n",
       "      <td>1</td>\n",
       "      <td>0</td>\n",
       "    </tr>\n",
       "    <tr>\n",
       "      <td>3</td>\n",
       "      <td>1</td>\n",
       "      <td>Intersection</td>\n",
       "      <td>-122.300758</td>\n",
       "      <td>47.683047</td>\n",
       "      <td>Medium</td>\n",
       "      <td>0</td>\n",
       "      <td>1</td>\n",
       "    </tr>\n",
       "    <tr>\n",
       "      <td>4</td>\n",
       "      <td>0</td>\n",
       "      <td>Block</td>\n",
       "      <td>-122.313053</td>\n",
       "      <td>47.567241</td>\n",
       "      <td>Medium</td>\n",
       "      <td>1</td>\n",
       "      <td>0</td>\n",
       "    </tr>\n",
       "  </tbody>\n",
       "</table>\n",
       "</div>"
      ],
      "text/plain": [
       "  SEVERITYCODE      ADDRTYPE           X          Y X-binned  AddType-Block  \\\n",
       "0            2  Intersection -122.386772  47.564720      Low              0   \n",
       "1            2  Intersection -122.341806  47.686934   Medium              0   \n",
       "2            1         Block -122.374899  47.668666      Low              1   \n",
       "3            1  Intersection -122.300758  47.683047   Medium              0   \n",
       "4            0         Block -122.313053  47.567241   Medium              1   \n",
       "\n",
       "   AddType-Intersection  \n",
       "0                     1  \n",
       "1                     1  \n",
       "2                     0  \n",
       "3                     1  \n",
       "4                     0  "
      ]
     },
     "execution_count": 53,
     "metadata": {},
     "output_type": "execute_result"
    }
   ],
   "source": [
    "df_map = pd.concat([df_map, dummy_variable_1], axis=1)\n",
    "df_map.head(5)"
   ]
  },
  {
   "cell_type": "markdown",
   "metadata": {},
   "source": [
    "#### Analyzing Individual Feature Patterns using Visualization"
   ]
  },
  {
   "cell_type": "code",
   "execution_count": 54,
   "metadata": {},
   "outputs": [
    {
     "data": {
      "text/html": [
       "<div>\n",
       "<style scoped>\n",
       "    .dataframe tbody tr th:only-of-type {\n",
       "        vertical-align: middle;\n",
       "    }\n",
       "\n",
       "    .dataframe tbody tr th {\n",
       "        vertical-align: top;\n",
       "    }\n",
       "\n",
       "    .dataframe thead th {\n",
       "        text-align: right;\n",
       "    }\n",
       "</style>\n",
       "<table border=\"1\" class=\"dataframe\">\n",
       "  <thead>\n",
       "    <tr style=\"text-align: right;\">\n",
       "      <th></th>\n",
       "      <th>UNDERINFL</th>\n",
       "      <th>hourofday</th>\n",
       "      <th>dayofweek</th>\n",
       "    </tr>\n",
       "  </thead>\n",
       "  <tbody>\n",
       "    <tr>\n",
       "      <td>count</td>\n",
       "      <td>221266.000000</td>\n",
       "      <td>221266.000000</td>\n",
       "      <td>221266.00000</td>\n",
       "    </tr>\n",
       "    <tr>\n",
       "      <td>mean</td>\n",
       "      <td>0.043518</td>\n",
       "      <td>10.096508</td>\n",
       "      <td>2.92998</td>\n",
       "    </tr>\n",
       "    <tr>\n",
       "      <td>std</td>\n",
       "      <td>0.204020</td>\n",
       "      <td>7.491989</td>\n",
       "      <td>1.92098</td>\n",
       "    </tr>\n",
       "    <tr>\n",
       "      <td>min</td>\n",
       "      <td>0.000000</td>\n",
       "      <td>0.000000</td>\n",
       "      <td>0.00000</td>\n",
       "    </tr>\n",
       "    <tr>\n",
       "      <td>25%</td>\n",
       "      <td>0.000000</td>\n",
       "      <td>0.000000</td>\n",
       "      <td>1.00000</td>\n",
       "    </tr>\n",
       "    <tr>\n",
       "      <td>50%</td>\n",
       "      <td>0.000000</td>\n",
       "      <td>11.000000</td>\n",
       "      <td>3.00000</td>\n",
       "    </tr>\n",
       "    <tr>\n",
       "      <td>75%</td>\n",
       "      <td>0.000000</td>\n",
       "      <td>16.000000</td>\n",
       "      <td>5.00000</td>\n",
       "    </tr>\n",
       "    <tr>\n",
       "      <td>max</td>\n",
       "      <td>1.000000</td>\n",
       "      <td>23.000000</td>\n",
       "      <td>6.00000</td>\n",
       "    </tr>\n",
       "  </tbody>\n",
       "</table>\n",
       "</div>"
      ],
      "text/plain": [
       "           UNDERINFL      hourofday     dayofweek\n",
       "count  221266.000000  221266.000000  221266.00000\n",
       "mean        0.043518      10.096508       2.92998\n",
       "std         0.204020       7.491989       1.92098\n",
       "min         0.000000       0.000000       0.00000\n",
       "25%         0.000000       0.000000       1.00000\n",
       "50%         0.000000      11.000000       3.00000\n",
       "75%         0.000000      16.000000       5.00000\n",
       "max         1.000000      23.000000       6.00000"
      ]
     },
     "execution_count": 54,
     "metadata": {},
     "output_type": "execute_result"
    }
   ],
   "source": [
    "df.describe()"
   ]
  },
  {
   "cell_type": "code",
   "execution_count": 55,
   "metadata": {},
   "outputs": [
    {
     "data": {
      "image/png": "[encoded data removed]",
      "text/plain": [
       "<Figure size 720x360 with 1 Axes>"
      ]
     },
     "metadata": {
      "needs_background": "light"
     },
     "output_type": "display_data"
    }
   ],
   "source": [
    "from matplotlib.pyplot import show\n",
    "import seaborn as sns\n",
    "\n",
    "plt.figure(figsize=(10,5))\n",
    "sns.set(style=\"darkgrid\")\n",
    "#titanic = sns.load_dataset(\"titanic\")\n",
    "total = float(len(df)) # one person per row \n",
    "#ax = sns.barplot(x=\"class\", hue=\"who\", data=titanic)\n",
    "ax = sns.countplot(x=\"JUNCTIONTYPE\", hue=\"SEVERITYDESC\", data=df) # for Seaborn version 0.7 and more\n",
    "for p in ax.patches:\n",
    "    height = p.get_height()\n",
    "    ax.text(p.get_x()+p.get_width()/2.,\n",
    "            height + 5,\n",
    "            '{:.2%}'.format(height/total),\n",
    "            ha=\"center\") \n",
    "show()"
   ]
  },
  {
   "cell_type": "code",
   "execution_count": 56,
   "metadata": {},
   "outputs": [
    {
     "name": "stderr",
     "output_type": "stream",
     "text": [
      "posx and posy should be finite values\n",
      "posx and posy should be finite values\n"
     ]
    },
    {
     "data": {
      "image/png": "[encoded data removed]",
      "text/plain": [
       "<Figure size 720x360 with 1 Axes>"
      ]
     },
     "metadata": {},
     "output_type": "display_data"
    }
   ],
   "source": [
    "from matplotlib.pyplot import show\n",
    "import seaborn as sns\n",
    "\n",
    "plt.figure(figsize=(10,5))\n",
    "sns.set(style=\"darkgrid\")\n",
    "#titanic = sns.load_dataset(\"titanic\")\n",
    "total = float(len(df)) # one person per row \n",
    "#ax = sns.barplot(x=\"class\", hue=\"who\", data=titanic)\n",
    "ax = sns.countplot(x=\"ADDRTYPE\", hue=\"SEVERITYDESC\", data=df) # for Seaborn version 0.7 and more\n",
    "for p in ax.patches:\n",
    "    height = p.get_height()\n",
    "    ax.text(p.get_x()+p.get_width()/2.,\n",
    "            height + 3,\n",
    "            '{:.2%}'.format(height/total),\n",
    "            ha=\"center\") \n",
    "show()"
   ]
  },
  {
   "cell_type": "code",
   "execution_count": 57,
   "metadata": {},
   "outputs": [
    {
     "data": {
      "image/png": "[encoded data removed]",
      "text/plain": [
       "<Figure size 1080x504 with 1 Axes>"
      ]
     },
     "metadata": {},
     "output_type": "display_data"
    }
   ],
   "source": [
    "from matplotlib.pyplot import show\n",
    "import seaborn as sns\n",
    "\n",
    "plt.figure(figsize=(15,7))\n",
    "sns.set(style=\"darkgrid\")\n",
    "#titanic = sns.load_dataset(\"titanic\")\n",
    "total = float(len(df)) # one person per row \n",
    "#ax = sns.barplot(x=\"class\", hue=\"who\", data=titanic)\n",
    "ax = sns.countplot(x=\"dayofweek\", hue=\"SEVERITYDESC\", data=df) \n",
    "# Monday=0, Sunday=6\n",
    "for p in ax.patches:\n",
    "    height = p.get_height()\n",
    "    ax.text(p.get_x()+p.get_width()/2.,\n",
    "            height + 3,\n",
    "            '{:1.2%}'.format(height/total),\n",
    "            ha=\"center\") \n",
    "show()"
   ]
  },
  {
   "cell_type": "code",
   "execution_count": 58,
   "metadata": {},
   "outputs": [
    {
     "data": {
      "image/png": "[encoded data removed]",
      "text/plain": [
       "<Figure size 1080x504 with 1 Axes>"
      ]
     },
     "metadata": {},
     "output_type": "display_data"
    }
   ],
   "source": [
    "df['weekend'] = df['dayofweek'].apply(lambda x: 1 if (x>3)  else 0)\n",
    "\n",
    "plt.figure(figsize=(15,7))\n",
    "sns.set(style=\"darkgrid\")\n",
    "#titanic = sns.load_dataset(\"titanic\")\n",
    "total = float(len(df)) # one person per row \n",
    "#ax = sns.barplot(x=\"class\", hue=\"who\", data=titanic)\n",
    "ax = sns.countplot(x=\"weekend\", hue=\"SEVERITYDESC\", data=df) \n",
    "# Monday=0, Sunday=6\n",
    "for p in ax.patches:\n",
    "    height = p.get_height()\n",
    "    ax.text(p.get_x()+p.get_width()/2.,\n",
    "            height + 3,\n",
    "            '{:1.2%}'.format(height/total),\n",
    "            ha=\"center\") \n",
    "show()"
   ]
  },
  {
   "cell_type": "code",
   "execution_count": 59,
   "metadata": {},
   "outputs": [
    {
     "name": "stderr",
     "output_type": "stream",
     "text": [
      "posx and posy should be finite values\n",
      "posx and posy should be finite values\n"
     ]
    },
    {
     "data": {
      "image/png": "[encoded data removed]",
      "text/plain": [
       "<Figure size 720x360 with 1 Axes>"
      ]
     },
     "metadata": {},
     "output_type": "display_data"
    }
   ],
   "source": [
    "from matplotlib.pyplot import show\n",
    "import seaborn as sns\n",
    "\n",
    "plt.figure(figsize=(10,5))\n",
    "sns.set(style=\"darkgrid\")\n",
    "#titanic = sns.load_dataset(\"titanic\")\n",
    "total = float(len(df)) # one person per row \n",
    "#ax = sns.barplot(x=\"class\", hue=\"who\", data=titanic)\n",
    "ax = sns.countplot(x=\"INATTENTIONIND\", hue=\"SEVERITYDESC\", data=df) # for Seaborn version 0.7 and more\n",
    "for p in ax.patches:\n",
    "    height = p.get_height()\n",
    "    ax.text(p.get_x()+p.get_width()/2.,\n",
    "            height + 3,\n",
    "            '{:1.2%}'.format(height/total),\n",
    "            ha=\"center\") \n",
    "show()"
   ]
  },
  {
   "cell_type": "code",
   "execution_count": null,
   "metadata": {},
   "outputs": [],
   "source": [
    "from matplotlib.pyplot import show\n",
    "import seaborn as sns\n",
    "\n",
    "plt.figure(figsize=(15,8))\n",
    "sns.set(style=\"darkgrid\")\n",
    "#titanic = sns.load_dataset(\"titanic\")\n",
    "total = float(len(df)) # one person per row \n",
    "#ax = sns.barplot(x=\"class\", hue=\"who\", data=titanic)\n",
    "ax = sns.countplot(x=\"hourofday\", hue=\"SEVERITYDESC\", data=df) # for Seaborn version 0.7 and more\n",
    "for p in ax.patches:\n",
    "    height = p.get_height()\n",
    "    ax.text(p.get_x()+p.get_width()/2.,\n",
    "            height + 3,\n",
    "            '{:1.2%}'.format(height/total),\n",
    "            ha=\"center\") \n",
    "show()"
   ]
  },
  {
   "cell_type": "code",
   "execution_count": 61,
   "metadata": {},
   "outputs": [
    {
     "name": "stderr",
     "output_type": "stream",
     "text": [
      "posx and posy should be finite values\n",
      "posx and posy should be finite values\n"
     ]
    },
    {
     "data": {
      "image/png": "[encoded data removed]",
      "text/plain": [
       "<Figure size 720x360 with 1 Axes>"
      ]
     },
     "metadata": {},
     "output_type": "display_data"
    }
   ],
   "source": [
    "df['RiskTime'] = df['hourofday'].apply(lambda x: \"Low\" if x in (1,2,3,4) else (\"Medium\" if x in (5,6,7,8,9,10,11,12,13,14,15,16) else \"High\"))\n",
    "\n",
    "from matplotlib.pyplot import show\n",
    "import seaborn as sns\n",
    "\n",
    "plt.figure(figsize=(10,5))\n",
    "sns.set(style=\"darkgrid\")\n",
    "#titanic = sns.load_dataset(\"titanic\")\n",
    "total = float(len(df)) # one person per row \n",
    "#ax = sns.barplot(x=\"class\", hue=\"who\", data=titanic)\n",
    "ax = sns.countplot(x=\"RiskTime\", hue=\"SEVERITYDESC\", data=df) # for Seaborn version 0.7 and more\n",
    "for p in ax.patches:\n",
    "    height = p.get_height()\n",
    "    ax.text(p.get_x()+p.get_width()/2.,\n",
    "            height + 3,\n",
    "            '{:1.2%}'.format(height/total),\n",
    "            ha=\"center\") \n",
    "show()"
   ]
  },
  {
   "cell_type": "code",
   "execution_count": 62,
   "metadata": {},
   "outputs": [
    {
     "name": "stderr",
     "output_type": "stream",
     "text": [
      "posx and posy should be finite values\n",
      "posx and posy should be finite values\n"
     ]
    },
    {
     "data": {
      "image/png": "[encoded data removed]",
      "text/plain": [
       "<Figure size 720x360 with 1 Axes>"
      ]
     },
     "metadata": {},
     "output_type": "display_data"
    }
   ],
   "source": [
    "from matplotlib.pyplot import show\n",
    "import seaborn as sns\n",
    "\n",
    "plt.figure(figsize=(10,5))\n",
    "sns.set(style=\"darkgrid\")\n",
    "#titanic = sns.load_dataset(\"titanic\")\n",
    "total = float(len(df)) # one person per row \n",
    "#ax = sns.barplot(x=\"class\", hue=\"who\", data=titanic)\n",
    "ax = sns.countplot(x=\"UNDERINFL\", hue=\"SEVERITYDESC\", data=df) # for Seaborn version 0.7 and more\n",
    "for p in ax.patches:\n",
    "    height = p.get_height()\n",
    "    ax.text(p.get_x()+p.get_width()/2.,\n",
    "            height + 3,\n",
    "            '{:1.2%}'.format(height/total),\n",
    "            ha=\"center\") \n",
    "show()\n"
   ]
  },
  {
   "cell_type": "code",
   "execution_count": 63,
   "metadata": {},
   "outputs": [
    {
     "name": "stderr",
     "output_type": "stream",
     "text": [
      "posx and posy should be finite values\n",
      "posx and posy should be finite values\n",
      "posx and posy should be finite values\n",
      "posx and posy should be finite values\n",
      "posx and posy should be finite values\n",
      "posx and posy should be finite values\n",
      "posx and posy should be finite values\n",
      "posx and posy should be finite values\n",
      "posx and posy should be finite values\n",
      "posx and posy should be finite values\n"
     ]
    },
    {
     "data": {
      "image/png": "[encoded data removed]",
      "text/plain": [
       "<Figure size 1080x576 with 1 Axes>"
      ]
     },
     "metadata": {},
     "output_type": "display_data"
    }
   ],
   "source": [
    "from matplotlib.pyplot import show\n",
    "import seaborn as sns\n",
    "\n",
    "plt.figure(figsize=(15,8))\n",
    "sns.set(style=\"darkgrid\")\n",
    "#titanic = sns.load_dataset(\"titanic\")\n",
    "total = float(len(df)) # one person per row \n",
    "#ax = sns.barplot(x=\"class\", hue=\"who\", data=titanic)\n",
    "ax = sns.countplot(x=\"WEATHER\", hue=\"SEVERITYDESC\", data=df) # for Seaborn version 0.7 and more\n",
    "for p in ax.patches:\n",
    "    height = p.get_height()\n",
    "    ax.text(p.get_x()+p.get_width()/2.,\n",
    "            height + 3,\n",
    "            '{:1.2%}'.format(height/total),\n",
    "            ha=\"center\") \n",
    "show()\n"
   ]
  },
  {
   "cell_type": "code",
   "execution_count": 64,
   "metadata": {},
   "outputs": [
    {
     "name": "stderr",
     "output_type": "stream",
     "text": [
      "posx and posy should be finite values\n",
      "posx and posy should be finite values\n",
      "posx and posy should be finite values\n",
      "posx and posy should be finite values\n"
     ]
    },
    {
     "data": {
      "image/png": "[encoded data removed]",
      "text/plain": [
       "<Figure size 1080x576 with 1 Axes>"
      ]
     },
     "metadata": {},
     "output_type": "display_data"
    }
   ],
   "source": [
    "from matplotlib.pyplot import show\n",
    "import seaborn as sns\n",
    "\n",
    "plt.figure(figsize=(15,8))\n",
    "sns.set(style=\"darkgrid\")\n",
    "#titanic = sns.load_dataset(\"titanic\")\n",
    "total = float(len(df)) # one person per row \n",
    "#ax = sns.barplot(x=\"class\", hue=\"who\", data=titanic)\n",
    "ax = sns.countplot(x=\"ROADCOND\", hue=\"SEVERITYDESC\", data=df) # for Seaborn version 0.7 and more\n",
    "for p in ax.patches:\n",
    "    height = p.get_height()\n",
    "    ax.text(p.get_x()+p.get_width()/2.,\n",
    "            height + 3,\n",
    "            '{:1.2%}'.format(height/total),\n",
    "            ha=\"center\") \n",
    "show()"
   ]
  },
  {
   "cell_type": "code",
   "execution_count": null,
   "metadata": {},
   "outputs": [],
   "source": [
    "from matplotlib.pyplot import show\n",
    "import seaborn as sns\n",
    "\n",
    "plt.figure(figsize=(15,8))\n",
    "sns.set(style=\"darkgrid\")\n",
    "#titanic = sns.load_dataset(\"titanic\")\n",
    "total = float(len(df)) # one person per row \n",
    "#ax = sns.barplot(x=\"class\", hue=\"who\", data=titanic)\n",
    "ax = sns.countplot(x=\"LIGHTCOND\", hue=\"SEVERITYDESC\", data=df) # for Seaborn version 0.7 and more\n",
    "for p in ax.patches:\n",
    "    height = p.get_height()\n",
    "    ax.text(p.get_x()+p.get_width()/2.,\n",
    "            height + 3,\n",
    "            '{:1.2%}'.format(height/total),\n",
    "            ha=\"center\") \n",
    "show()"
   ]
  },
  {
   "cell_type": "code",
   "execution_count": null,
   "metadata": {},
   "outputs": [],
   "source": [
    "from matplotlib.pyplot import show\n",
    "import seaborn as sns\n",
    "\n",
    "plt.figure(figsize=(10,5))\n",
    "sns.set(style=\"darkgrid\")\n",
    "#titanic = sns.load_dataset(\"titanic\")\n",
    "total = float(len(df)) # one person per row \n",
    "#ax = sns.barplot(x=\"class\", hue=\"who\", data=titanic)\n",
    "ax = sns.countplot(x=\"SPEEDING\", hue=\"SEVERITYDESC\", data=df) # for Seaborn version 0.7 and more\n",
    "for p in ax.patches:\n",
    "    height = p.get_height()\n",
    "    ax.text(p.get_x()+p.get_width()/2.,\n",
    "            height + 3,\n",
    "            '{:1.2%}'.format(height/total),\n",
    "            ha=\"center\") \n",
    "show()"
   ]
  },
  {
   "cell_type": "markdown",
   "metadata": {},
   "source": [
    "##### Continuous numerical variables and linear relationship"
   ]
  },
  {
   "cell_type": "code",
   "execution_count": 65,
   "metadata": {},
   "outputs": [
    {
     "data": {
      "image/png": "[encoded data removed]",
      "text/plain": [
       "<Figure size 432x288 with 1 Axes>"
      ]
     },
     "metadata": {},
     "output_type": "display_data"
    }
   ],
   "source": [
    "sns.regplot(x=\"X\", y=\"Y\",data=df_map.head(100), ci=80)\n",
    "plt.show()"
   ]
  },
  {
   "cell_type": "code",
   "execution_count": 66,
   "metadata": {},
   "outputs": [
    {
     "data": {
      "image/png": "[encoded data removed]",
      "text/plain": [
       "<Figure size 447.925x360 with 1 Axes>"
      ]
     },
     "metadata": {},
     "output_type": "display_data"
    }
   ],
   "source": [
    "sns.catplot(x=\"ADDRTYPE\", y=\"X\", hue=\"SEVERITYCODE\",data=df_map, kind=\"violin\")\n",
    "plt.show()"
   ]
  },
  {
   "cell_type": "markdown",
   "metadata": {},
   "source": [
    "### Descriptive Statistical Analysis"
   ]
  },
  {
   "cell_type": "code",
   "execution_count": 67,
   "metadata": {},
   "outputs": [
    {
     "data": {
      "text/html": [
       "<div>\n",
       "<style scoped>\n",
       "    .dataframe tbody tr th:only-of-type {\n",
       "        vertical-align: middle;\n",
       "    }\n",
       "\n",
       "    .dataframe tbody tr th {\n",
       "        vertical-align: top;\n",
       "    }\n",
       "\n",
       "    .dataframe thead th {\n",
       "        text-align: right;\n",
       "    }\n",
       "</style>\n",
       "<table border=\"1\" class=\"dataframe\">\n",
       "  <thead>\n",
       "    <tr style=\"text-align: right;\">\n",
       "      <th></th>\n",
       "      <th>SEVERITYCODE</th>\n",
       "      <th>SEVERITYDESC</th>\n",
       "      <th>ADDRTYPE</th>\n",
       "      <th>JUNCTIONTYPE</th>\n",
       "      <th>INATTENTIONIND</th>\n",
       "      <th>WEATHER</th>\n",
       "      <th>ROADCOND</th>\n",
       "      <th>LIGHTCOND</th>\n",
       "      <th>SPEEDING</th>\n",
       "      <th>HITPARKEDCAR</th>\n",
       "      <th>RiskTime</th>\n",
       "    </tr>\n",
       "  </thead>\n",
       "  <tbody>\n",
       "    <tr>\n",
       "      <td>count</td>\n",
       "      <td>221265</td>\n",
       "      <td>221266</td>\n",
       "      <td>221266</td>\n",
       "      <td>221266</td>\n",
       "      <td>221266</td>\n",
       "      <td>221266</td>\n",
       "      <td>221266</td>\n",
       "      <td>221266</td>\n",
       "      <td>221266</td>\n",
       "      <td>221266</td>\n",
       "      <td>221266</td>\n",
       "    </tr>\n",
       "    <tr>\n",
       "      <td>unique</td>\n",
       "      <td>5</td>\n",
       "      <td>5</td>\n",
       "      <td>3</td>\n",
       "      <td>4</td>\n",
       "      <td>2</td>\n",
       "      <td>5</td>\n",
       "      <td>4</td>\n",
       "      <td>5</td>\n",
       "      <td>2</td>\n",
       "      <td>2</td>\n",
       "      <td>3</td>\n",
       "    </tr>\n",
       "    <tr>\n",
       "      <td>top</td>\n",
       "      <td>1</td>\n",
       "      <td>Property Damage Only Collision</td>\n",
       "      <td>Block</td>\n",
       "      <td>Mid-Block (not related to intersection)</td>\n",
       "      <td>N</td>\n",
       "      <td>Clear</td>\n",
       "      <td>Dry</td>\n",
       "      <td>Daylight</td>\n",
       "      <td>N</td>\n",
       "      <td>N</td>\n",
       "      <td>High</td>\n",
       "    </tr>\n",
       "    <tr>\n",
       "      <td>freq</td>\n",
       "      <td>137485</td>\n",
       "      <td>137485</td>\n",
       "      <td>148569</td>\n",
       "      <td>113567</td>\n",
       "      <td>191078</td>\n",
       "      <td>141049</td>\n",
       "      <td>154779</td>\n",
       "      <td>145942</td>\n",
       "      <td>211353</td>\n",
       "      <td>209290</td>\n",
       "      <td>109895</td>\n",
       "    </tr>\n",
       "  </tbody>\n",
       "</table>\n",
       "</div>"
      ],
      "text/plain": [
       "       SEVERITYCODE                    SEVERITYDESC ADDRTYPE  \\\n",
       "count        221265                          221266   221266   \n",
       "unique            5                               5        3   \n",
       "top               1  Property Damage Only Collision    Block   \n",
       "freq         137485                          137485   148569   \n",
       "\n",
       "                                   JUNCTIONTYPE INATTENTIONIND WEATHER  \\\n",
       "count                                    221266         221266  221266   \n",
       "unique                                        4              2       5   \n",
       "top     Mid-Block (not related to intersection)              N   Clear   \n",
       "freq                                     113567         191078  141049   \n",
       "\n",
       "       ROADCOND LIGHTCOND SPEEDING HITPARKEDCAR RiskTime  \n",
       "count    221266    221266   221266       221266   221266  \n",
       "unique        4         5        2            2        3  \n",
       "top         Dry  Daylight        N            N     High  \n",
       "freq     154779    145942   211353       209290   109895  "
      ]
     },
     "execution_count": 67,
     "metadata": {},
     "output_type": "execute_result"
    }
   ],
   "source": [
    "df.describe(include=['object'])"
   ]
  },
  {
   "cell_type": "code",
   "execution_count": 68,
   "metadata": {},
   "outputs": [
    {
     "data": {
      "text/plain": [
       "1     137485\n",
       "2      58698\n",
       "0      21635\n",
       "2b      3098\n",
       "3        349\n",
       "Name: SEVERITYCODE, dtype: int64"
      ]
     },
     "execution_count": 68,
     "metadata": {},
     "output_type": "execute_result"
    }
   ],
   "source": [
    "df['SEVERITYCODE'].value_counts()"
   ]
  },
  {
   "cell_type": "markdown",
   "metadata": {},
   "source": [
    "##### Grouping"
   ]
  },
  {
   "cell_type": "markdown",
   "metadata": {},
   "source": [
    "The \"groupby\" method groups data by different categories. The data is grouped based on one or several variables and analysis is performed on the individual groups."
   ]
  },
  {
   "cell_type": "code",
   "execution_count": 70,
   "metadata": {},
   "outputs": [
    {
     "data": {
      "text/plain": [
       "array(['Intersection', 'Block', 'Alley'], dtype=object)"
      ]
     },
     "execution_count": 70,
     "metadata": {},
     "output_type": "execute_result"
    }
   ],
   "source": [
    "df['ADDRTYPE'].unique() "
   ]
  },
  {
   "cell_type": "code",
   "execution_count": null,
   "metadata": {},
   "outputs": [],
   "source": [
    "df_gptest = df[['hourofday','ADDRTYPE','SEVERITYCODE']]\n",
    "grouped_test1 = df_gptest.groupby(['hourofday','ADDRTYPE'],as_index=False).mean()\n",
    "grouped_test1"
   ]
  },
  {
   "cell_type": "code",
   "execution_count": null,
   "metadata": {},
   "outputs": [],
   "source": [
    "grouped_pivot = grouped_test1.pivot(index='ADDRTYPE',columns='hourofday')\n",
    "grouped_pivot"
   ]
  },
  {
   "cell_type": "markdown",
   "metadata": {},
   "source": [
    "##### Correlation and Causation"
   ]
  },
  {
   "cell_type": "markdown",
   "metadata": {},
   "source": [
    "It is important to know the difference between these two and that correlation does not imply causation. Determining correlation is much simpler the determining causation as causation may require independent experimentation."
   ]
  },
  {
   "cell_type": "markdown",
   "metadata": {},
   "source": [
    "##### ANOVA: Analysis of Variance"
   ]
  },
  {
   "cell_type": "markdown",
   "metadata": {},
   "source": [
    "test whether there are significant differences between the means of two or more groups. ANOVA returns two parameters:"
   ]
  },
  {
   "cell_type": "markdown",
   "metadata": {},
   "source": [
    "### Map - Heatmap and other Map with number"
   ]
  },
  {
   "cell_type": "code",
   "execution_count": 73,
   "metadata": {},
   "outputs": [
    {
     "data": {
      "text/html": [
       "<div>\n",
       "<style scoped>\n",
       "    .dataframe tbody tr th:only-of-type {\n",
       "        vertical-align: middle;\n",
       "    }\n",
       "\n",
       "    .dataframe tbody tr th {\n",
       "        vertical-align: top;\n",
       "    }\n",
       "\n",
       "    .dataframe thead th {\n",
       "        text-align: right;\n",
       "    }\n",
       "</style>\n",
       "<table border=\"1\" class=\"dataframe\">\n",
       "  <thead>\n",
       "    <tr style=\"text-align: right;\">\n",
       "      <th></th>\n",
       "      <th>SEVERITYCODE</th>\n",
       "      <th>ADDRTYPE</th>\n",
       "      <th>X</th>\n",
       "      <th>Y</th>\n",
       "      <th>X-binned</th>\n",
       "      <th>AddType-Block</th>\n",
       "      <th>AddType-Intersection</th>\n",
       "      <th>geom</th>\n",
       "    </tr>\n",
       "  </thead>\n",
       "  <tbody>\n",
       "    <tr>\n",
       "      <td>0</td>\n",
       "      <td>2</td>\n",
       "      <td>Intersection</td>\n",
       "      <td>-122.386772</td>\n",
       "      <td>47.564720</td>\n",
       "      <td>Low</td>\n",
       "      <td>0</td>\n",
       "      <td>1</td>\n",
       "      <td>47.5647203004631,-122.38677160689501</td>\n",
       "    </tr>\n",
       "    <tr>\n",
       "      <td>1</td>\n",
       "      <td>2</td>\n",
       "      <td>Intersection</td>\n",
       "      <td>-122.341806</td>\n",
       "      <td>47.686934</td>\n",
       "      <td>Medium</td>\n",
       "      <td>0</td>\n",
       "      <td>1</td>\n",
       "      <td>47.6869337771846,-122.34180599725599</td>\n",
       "    </tr>\n",
       "    <tr>\n",
       "      <td>2</td>\n",
       "      <td>1</td>\n",
       "      <td>Block</td>\n",
       "      <td>-122.374899</td>\n",
       "      <td>47.668666</td>\n",
       "      <td>Low</td>\n",
       "      <td>1</td>\n",
       "      <td>0</td>\n",
       "      <td>47.668666144477704,-122.374899462775</td>\n",
       "    </tr>\n",
       "    <tr>\n",
       "      <td>3</td>\n",
       "      <td>1</td>\n",
       "      <td>Intersection</td>\n",
       "      <td>-122.300758</td>\n",
       "      <td>47.683047</td>\n",
       "      <td>Medium</td>\n",
       "      <td>0</td>\n",
       "      <td>1</td>\n",
       "      <td>47.6830474274607,-122.300758228115</td>\n",
       "    </tr>\n",
       "    <tr>\n",
       "      <td>4</td>\n",
       "      <td>0</td>\n",
       "      <td>Block</td>\n",
       "      <td>-122.313053</td>\n",
       "      <td>47.567241</td>\n",
       "      <td>Medium</td>\n",
       "      <td>1</td>\n",
       "      <td>0</td>\n",
       "      <td>47.5672405221464,-122.313053234523</td>\n",
       "    </tr>\n",
       "  </tbody>\n",
       "</table>\n",
       "</div>"
      ],
      "text/plain": [
       "  SEVERITYCODE      ADDRTYPE           X          Y X-binned  AddType-Block  \\\n",
       "0            2  Intersection -122.386772  47.564720      Low              0   \n",
       "1            2  Intersection -122.341806  47.686934   Medium              0   \n",
       "2            1         Block -122.374899  47.668666      Low              1   \n",
       "3            1  Intersection -122.300758  47.683047   Medium              0   \n",
       "4            0         Block -122.313053  47.567241   Medium              1   \n",
       "\n",
       "   AddType-Intersection                                  geom  \n",
       "0                     1  47.5647203004631,-122.38677160689501  \n",
       "1                     1  47.6869337771846,-122.34180599725599  \n",
       "2                     0  47.668666144477704,-122.374899462775  \n",
       "3                     1    47.6830474274607,-122.300758228115  \n",
       "4                     0    47.5672405221464,-122.313053234523  "
      ]
     },
     "execution_count": 73,
     "metadata": {},
     "output_type": "execute_result"
    }
   ],
   "source": [
    "df_map[\"geom\"] = df_map[\"Y\"].map(str) + \",\" + df_map[\"X\"].map(str)\n",
    "df_map.head()"
   ]
  },
  {
   "cell_type": "code",
   "execution_count": null,
   "metadata": {},
   "outputs": [],
   "source": [
    "import pandas as pd\n",
    "import geopandas as gpd\n",
    "import geopy\n",
    "from geopy.geocoders import Nominatim\n",
    "from geopy.extra.rate_limiter import RateLimiter\n",
    "import matplotlib.pyplot as plt\n",
    "import plotly_express as px\n",
    "import tqdm\n",
    "from tqdm._tqdm_notebook import tqdm_notebook\n",
    "\n",
    "# using X Y data to search for a complete address\n",
    "locator = Nominatim(user_agent=\"myGeocoder\", timeout=10)\n",
    "rgeocode = RateLimiter(locator.reverse, min_delay_seconds=0.001)\n",
    "# show the progress by percentange of searching results\n",
    "tqdm_notebook.pandas()\n",
    "df_map[\"address\"] = df_map[\"geom\"].progress_apply(rgeocode)\n",
    "df_map.head(5)"
   ]
  },
  {
   "cell_type": "code",
   "execution_count": null,
   "metadata": {},
   "outputs": [],
   "source": [
    "df_map[\"address\"][0].raw"
   ]
  },
  {
   "cell_type": "code",
   "execution_count": null,
   "metadata": {},
   "outputs": [],
   "source": [
    "df_map[\"address\"][0].raw['address']['neighbourhood']"
   ]
  },
  {
   "cell_type": "code",
   "execution_count": null,
   "metadata": {},
   "outputs": [],
   "source": [
    "import numpy as np\n",
    "import pandas as pd\n",
    "import matplotlib.pyplot as plt\n",
    "%matplotlib inline \n",
    "import seaborn as sns\n",
    "import folium\n",
    "from folium.plugins import HeatMap\n",
    "\n",
    "# Create basic Folium Seattle map\n",
    "injury_map = folium.Map(location=[47.61536892, -122.3302243], \n",
    "                       tiles = \"OpenStreetMap\",\n",
    "                      zoom_start = 11)\n",
    "\n",
    "# Add data for heatmp \n",
    "data_heatmap = df_map[df_map['SEVERITYCODE']==2]\n",
    "data_heatmap = df_map[['Y','X']]\n",
    "data_heatmap = df_map.dropna(axis=0, subset=['Y','X'])\n",
    "data_heatmap = [[row['Y'],row['X']] for index, row in data_heatmap.head(10000).iterrows()] \n",
    "# why 5000? Data too large to process.\n",
    "HeatMap(data_heatmap, radius=10).add_to(injury_map)\n",
    "\n",
    "# Plot!\n",
    "injury_map"
   ]
  },
  {
   "cell_type": "code",
   "execution_count": null,
   "metadata": {},
   "outputs": [],
   "source": [
    "import folium\n",
    "from folium import plugins\n",
    "\n",
    "# only show the injury record, not property collision\n",
    "df_map_injury = df_map[df_map['SEVERITYCODE']==2]\n",
    "# Make reduced df by selecting every 50th record\n",
    "reduced_df = df_map_injury.iloc [0::20, 0:]\n",
    "\n",
    "# let's start again with a clean copy of the map of San Francisco\n",
    "seattle_map = folium.Map(location=[47.61536892, -122.3302243], zoom_start=10)\n",
    "\n",
    "# instantiate a mark cluster object for the incidents in the dataframe\n",
    "incidents = plugins.MarkerCluster().add_to(seattle_map)\n",
    "\n",
    "# loop through the dataframe and add each data point to the mark cluster\n",
    "for lat, lng, label, in zip(reduced_df.Y, reduced_df.X, reduced_df.SEVERITYCODE):\n",
    "    folium.Marker(\n",
    "    location=[lat, lng],\n",
    "    icon=None,\n",
    "    popup=label,\n",
    "    ).add_to(incidents)\n",
    "\n",
    "seattle_map.add_child(incidents)\n",
    "\n",
    "# display map\n",
    "seattle_map\n",
    "#seattle_map.save(\"seattlemap.html\")\n",
    "#webbrowser.open(\"seattlemap.html\")"
   ]
  },
  {
   "cell_type": "markdown",
   "metadata": {},
   "source": [
    "## Model Pre-processing: Feature selection/extraction"
   ]
  },
  {
   "cell_type": "code",
   "execution_count": 78,
   "metadata": {},
   "outputs": [
    {
     "data": {
      "text/plain": [
       "Index(['SEVERITYCODE', 'SEVERITYDESC', 'ADDRTYPE', 'INCDATE', 'INCDTTM',\n",
       "       'JUNCTIONTYPE', 'INATTENTIONIND', 'UNDERINFL', 'WEATHER', 'ROADCOND',\n",
       "       'LIGHTCOND', 'SPEEDING', 'HITPARKEDCAR', 'hourofday', 'dayofweek',\n",
       "       'weekend', 'RiskTime'],\n",
       "      dtype='object')"
      ]
     },
     "execution_count": 78,
     "metadata": {},
     "output_type": "execute_result"
    }
   ],
   "source": [
    "df.columns"
   ]
  },
  {
   "cell_type": "code",
   "execution_count": 79,
   "metadata": {},
   "outputs": [
    {
     "data": {
      "text/plain": [
       "SEVERITYCODE       True\n",
       "SEVERITYDESC      False\n",
       "ADDRTYPE          False\n",
       "INCDATE           False\n",
       "INCDTTM           False\n",
       "JUNCTIONTYPE      False\n",
       "INATTENTIONIND    False\n",
       "UNDERINFL         False\n",
       "WEATHER           False\n",
       "ROADCOND          False\n",
       "LIGHTCOND         False\n",
       "SPEEDING          False\n",
       "HITPARKEDCAR      False\n",
       "hourofday         False\n",
       "dayofweek         False\n",
       "weekend           False\n",
       "RiskTime          False\n",
       "dtype: bool"
      ]
     },
     "execution_count": 79,
     "metadata": {},
     "output_type": "execute_result"
    }
   ],
   "source": [
    "df.isnull().any()"
   ]
  },
  {
   "cell_type": "code",
   "execution_count": 80,
   "metadata": {},
   "outputs": [],
   "source": [
    "y = df[\"SEVERITYCODE\"]"
   ]
  },
  {
   "cell_type": "markdown",
   "metadata": {},
   "source": [
    "### Feature selection"
   ]
  },
  {
   "cell_type": "code",
   "execution_count": 81,
   "metadata": {},
   "outputs": [
    {
     "data": {
      "text/plain": [
       "array([['Intersection', 'At-Intersection', 'N', 0, 'Clear', 'Dry',\n",
       "        'Daylight', 'N', 'Medium', 0],\n",
       "       ['Intersection', 'At-Intersection', 'N', 0, 'RainSnow', 'Wet',\n",
       "        'Dark-With-Light', 'N', 'High', 0],\n",
       "       ['Block', 'Mid-Block (not related to intersection)', 'N', 0,\n",
       "        'Clear', 'Dry', 'Daylight', 'N', 'Medium', 0],\n",
       "       ['Intersection', 'At-Intersection', 'N', 0, 'RainSnow', 'Wet',\n",
       "        'Dark-With-Light', 'N', 'High', 0],\n",
       "       ['Block', 'Mid-Block (but intersection related)', 'N', 0, 'Clear',\n",
       "        'Dry', 'Daylight', 'N', 'High', 1]], dtype=object)"
      ]
     },
     "execution_count": 81,
     "metadata": {},
     "output_type": "execute_result"
    }
   ],
   "source": [
    "Feature = df[['ADDRTYPE', 'JUNCTIONTYPE', 'INATTENTIONIND', 'UNDERINFL', 'WEATHER', 'ROADCOND',\n",
    "       'LIGHTCOND', 'SPEEDING', 'RiskTime','weekend']]\n",
    "X = Feature.values\n",
    "X[0:5]"
   ]
  },
  {
   "cell_type": "code",
   "execution_count": 82,
   "metadata": {},
   "outputs": [
    {
     "data": {
      "text/plain": [
       "0    129072\n",
       "1     92194\n",
       "Name: weekend, dtype: int64"
      ]
     },
     "execution_count": 82,
     "metadata": {},
     "output_type": "execute_result"
    }
   ],
   "source": [
    "df['weekend'].value_counts()"
   ]
  },
  {
   "cell_type": "markdown",
   "metadata": {},
   "source": [
    "### Convert Categorical features to numerical values"
   ]
  },
  {
   "cell_type": "markdown",
   "metadata": {},
   "source": [
    "In this case, using LabelEncoder only is not a good choice, since it brings in a natural ordering for different classes. For example, under ‘Neighborhood’ feature, class_a has value 5 but class_b has value 24, is class_b ‘greater’ than class_a? The answer is obviously no. Thus allowing model learning this result will lead to poor performance. Therefore, for dataframe containing multi class features, a further step of OneHotEncoder is needed."
   ]
  },
  {
   "cell_type": "code",
   "execution_count": 83,
   "metadata": {},
   "outputs": [
    {
     "data": {
      "text/plain": [
       "ADDRTYPE           True\n",
       "JUNCTIONTYPE       True\n",
       "INATTENTIONIND     True\n",
       "UNDERINFL         False\n",
       "WEATHER            True\n",
       "ROADCOND           True\n",
       "LIGHTCOND          True\n",
       "SPEEDING           True\n",
       "RiskTime           True\n",
       "weekend           False\n",
       "dtype: bool"
      ]
     },
     "execution_count": 83,
     "metadata": {},
     "output_type": "execute_result"
    }
   ],
   "source": [
    "categorical_feature_mask = Feature.dtypes==object\n",
    "categorical_feature_mask"
   ]
  },
  {
   "cell_type": "code",
   "execution_count": 84,
   "metadata": {},
   "outputs": [
    {
     "data": {
      "text/plain": [
       "['ADDRTYPE',\n",
       " 'JUNCTIONTYPE',\n",
       " 'INATTENTIONIND',\n",
       " 'WEATHER',\n",
       " 'ROADCOND',\n",
       " 'LIGHTCOND',\n",
       " 'SPEEDING',\n",
       " 'RiskTime']"
      ]
     },
     "execution_count": 84,
     "metadata": {},
     "output_type": "execute_result"
    }
   ],
   "source": [
    "categorical_cols = Feature.columns[categorical_feature_mask].tolist()\n",
    "categorical_cols"
   ]
  },
  {
   "cell_type": "code",
   "execution_count": 85,
   "metadata": {},
   "outputs": [],
   "source": [
    "from sklearn.preprocessing import LabelEncoder\n",
    "# instantiate labelencoder object\n",
    "le = LabelEncoder()"
   ]
  },
  {
   "cell_type": "code",
   "execution_count": 86,
   "metadata": {},
   "outputs": [
    {
     "data": {
      "text/html": [
       "<div>\n",
       "<style scoped>\n",
       "    .dataframe tbody tr th:only-of-type {\n",
       "        vertical-align: middle;\n",
       "    }\n",
       "\n",
       "    .dataframe tbody tr th {\n",
       "        vertical-align: top;\n",
       "    }\n",
       "\n",
       "    .dataframe thead th {\n",
       "        text-align: right;\n",
       "    }\n",
       "</style>\n",
       "<table border=\"1\" class=\"dataframe\">\n",
       "  <thead>\n",
       "    <tr style=\"text-align: right;\">\n",
       "      <th></th>\n",
       "      <th>ADDRTYPE</th>\n",
       "      <th>JUNCTIONTYPE</th>\n",
       "      <th>INATTENTIONIND</th>\n",
       "      <th>WEATHER</th>\n",
       "      <th>ROADCOND</th>\n",
       "      <th>LIGHTCOND</th>\n",
       "      <th>SPEEDING</th>\n",
       "      <th>RiskTime</th>\n",
       "    </tr>\n",
       "  </thead>\n",
       "  <tbody>\n",
       "    <tr>\n",
       "      <td>0</td>\n",
       "      <td>2</td>\n",
       "      <td>0</td>\n",
       "      <td>0</td>\n",
       "      <td>1</td>\n",
       "      <td>0</td>\n",
       "      <td>2</td>\n",
       "      <td>0</td>\n",
       "      <td>2</td>\n",
       "    </tr>\n",
       "    <tr>\n",
       "      <td>1</td>\n",
       "      <td>2</td>\n",
       "      <td>0</td>\n",
       "      <td>0</td>\n",
       "      <td>3</td>\n",
       "      <td>3</td>\n",
       "      <td>1</td>\n",
       "      <td>0</td>\n",
       "      <td>0</td>\n",
       "    </tr>\n",
       "    <tr>\n",
       "      <td>2</td>\n",
       "      <td>1</td>\n",
       "      <td>2</td>\n",
       "      <td>0</td>\n",
       "      <td>1</td>\n",
       "      <td>0</td>\n",
       "      <td>2</td>\n",
       "      <td>0</td>\n",
       "      <td>2</td>\n",
       "    </tr>\n",
       "    <tr>\n",
       "      <td>3</td>\n",
       "      <td>2</td>\n",
       "      <td>0</td>\n",
       "      <td>0</td>\n",
       "      <td>3</td>\n",
       "      <td>3</td>\n",
       "      <td>1</td>\n",
       "      <td>0</td>\n",
       "      <td>0</td>\n",
       "    </tr>\n",
       "    <tr>\n",
       "      <td>4</td>\n",
       "      <td>1</td>\n",
       "      <td>1</td>\n",
       "      <td>0</td>\n",
       "      <td>1</td>\n",
       "      <td>0</td>\n",
       "      <td>2</td>\n",
       "      <td>0</td>\n",
       "      <td>0</td>\n",
       "    </tr>\n",
       "    <tr>\n",
       "      <td>5</td>\n",
       "      <td>1</td>\n",
       "      <td>3</td>\n",
       "      <td>0</td>\n",
       "      <td>1</td>\n",
       "      <td>0</td>\n",
       "      <td>2</td>\n",
       "      <td>0</td>\n",
       "      <td>0</td>\n",
       "    </tr>\n",
       "    <tr>\n",
       "      <td>6</td>\n",
       "      <td>1</td>\n",
       "      <td>2</td>\n",
       "      <td>0</td>\n",
       "      <td>1</td>\n",
       "      <td>0</td>\n",
       "      <td>1</td>\n",
       "      <td>0</td>\n",
       "      <td>1</td>\n",
       "    </tr>\n",
       "    <tr>\n",
       "      <td>7</td>\n",
       "      <td>2</td>\n",
       "      <td>0</td>\n",
       "      <td>0</td>\n",
       "      <td>1</td>\n",
       "      <td>0</td>\n",
       "      <td>2</td>\n",
       "      <td>0</td>\n",
       "      <td>2</td>\n",
       "    </tr>\n",
       "    <tr>\n",
       "      <td>8</td>\n",
       "      <td>1</td>\n",
       "      <td>2</td>\n",
       "      <td>0</td>\n",
       "      <td>1</td>\n",
       "      <td>0</td>\n",
       "      <td>1</td>\n",
       "      <td>0</td>\n",
       "      <td>0</td>\n",
       "    </tr>\n",
       "    <tr>\n",
       "      <td>9</td>\n",
       "      <td>1</td>\n",
       "      <td>1</td>\n",
       "      <td>1</td>\n",
       "      <td>1</td>\n",
       "      <td>0</td>\n",
       "      <td>2</td>\n",
       "      <td>0</td>\n",
       "      <td>2</td>\n",
       "    </tr>\n",
       "  </tbody>\n",
       "</table>\n",
       "</div>"
      ],
      "text/plain": [
       "   ADDRTYPE  JUNCTIONTYPE  INATTENTIONIND  WEATHER  ROADCOND  LIGHTCOND  \\\n",
       "0         2             0               0        1         0          2   \n",
       "1         2             0               0        3         3          1   \n",
       "2         1             2               0        1         0          2   \n",
       "3         2             0               0        3         3          1   \n",
       "4         1             1               0        1         0          2   \n",
       "5         1             3               0        1         0          2   \n",
       "6         1             2               0        1         0          1   \n",
       "7         2             0               0        1         0          2   \n",
       "8         1             2               0        1         0          1   \n",
       "9         1             1               1        1         0          2   \n",
       "\n",
       "   SPEEDING  RiskTime  \n",
       "0         0         2  \n",
       "1         0         0  \n",
       "2         0         2  \n",
       "3         0         0  \n",
       "4         0         0  \n",
       "5         0         0  \n",
       "6         0         1  \n",
       "7         0         2  \n",
       "8         0         0  \n",
       "9         0         2  "
      ]
     },
     "execution_count": 86,
     "metadata": {},
     "output_type": "execute_result"
    }
   ],
   "source": [
    "Feature[categorical_cols] = Feature[categorical_cols].apply(lambda col: le.fit_transform(col))\n",
    "Feature[categorical_cols].head(10)"
   ]
  },
  {
   "cell_type": "code",
   "execution_count": 87,
   "metadata": {},
   "outputs": [
    {
     "data": {
      "text/plain": [
       "array([[2, 0, 0, 0, 1, 0, 2, 0, 2, 0],\n",
       "       [2, 0, 0, 0, 3, 3, 1, 0, 0, 0],\n",
       "       [1, 2, 0, 0, 1, 0, 2, 0, 2, 0],\n",
       "       [2, 0, 0, 0, 3, 3, 1, 0, 0, 0],\n",
       "       [1, 1, 0, 0, 1, 0, 2, 0, 0, 1]], dtype=int64)"
      ]
     },
     "execution_count": 87,
     "metadata": {},
     "output_type": "execute_result"
    }
   ],
   "source": [
    "X = Feature.values\n",
    "X[0:5]"
   ]
  },
  {
   "cell_type": "markdown",
   "metadata": {},
   "source": [
    "### One-Hot-Encoder or Get_Dummies to avoid over-weigh problems"
   ]
  },
  {
   "cell_type": "code",
   "execution_count": 88,
   "metadata": {},
   "outputs": [
    {
     "name": "stdout",
     "output_type": "stream",
     "text": [
      "(221266, 10)\n",
      "----After Dummy Fuction------\n",
      "(221266, 10)\n"
     ]
    },
    {
     "data": {
      "text/html": [
       "<div>\n",
       "<style scoped>\n",
       "    .dataframe tbody tr th:only-of-type {\n",
       "        vertical-align: middle;\n",
       "    }\n",
       "\n",
       "    .dataframe tbody tr th {\n",
       "        vertical-align: top;\n",
       "    }\n",
       "\n",
       "    .dataframe thead th {\n",
       "        text-align: right;\n",
       "    }\n",
       "</style>\n",
       "<table border=\"1\" class=\"dataframe\">\n",
       "  <thead>\n",
       "    <tr style=\"text-align: right;\">\n",
       "      <th></th>\n",
       "      <th>ADDRTYPE</th>\n",
       "      <th>JUNCTIONTYPE</th>\n",
       "      <th>INATTENTIONIND</th>\n",
       "      <th>UNDERINFL</th>\n",
       "      <th>WEATHER</th>\n",
       "      <th>ROADCOND</th>\n",
       "      <th>LIGHTCOND</th>\n",
       "      <th>SPEEDING</th>\n",
       "      <th>RiskTime</th>\n",
       "      <th>weekend</th>\n",
       "    </tr>\n",
       "  </thead>\n",
       "  <tbody>\n",
       "    <tr>\n",
       "      <td>0</td>\n",
       "      <td>2</td>\n",
       "      <td>0</td>\n",
       "      <td>0</td>\n",
       "      <td>0</td>\n",
       "      <td>1</td>\n",
       "      <td>0</td>\n",
       "      <td>2</td>\n",
       "      <td>0</td>\n",
       "      <td>2</td>\n",
       "      <td>0</td>\n",
       "    </tr>\n",
       "    <tr>\n",
       "      <td>1</td>\n",
       "      <td>2</td>\n",
       "      <td>0</td>\n",
       "      <td>0</td>\n",
       "      <td>0</td>\n",
       "      <td>3</td>\n",
       "      <td>3</td>\n",
       "      <td>1</td>\n",
       "      <td>0</td>\n",
       "      <td>0</td>\n",
       "      <td>0</td>\n",
       "    </tr>\n",
       "    <tr>\n",
       "      <td>2</td>\n",
       "      <td>1</td>\n",
       "      <td>2</td>\n",
       "      <td>0</td>\n",
       "      <td>0</td>\n",
       "      <td>1</td>\n",
       "      <td>0</td>\n",
       "      <td>2</td>\n",
       "      <td>0</td>\n",
       "      <td>2</td>\n",
       "      <td>0</td>\n",
       "    </tr>\n",
       "    <tr>\n",
       "      <td>3</td>\n",
       "      <td>2</td>\n",
       "      <td>0</td>\n",
       "      <td>0</td>\n",
       "      <td>0</td>\n",
       "      <td>3</td>\n",
       "      <td>3</td>\n",
       "      <td>1</td>\n",
       "      <td>0</td>\n",
       "      <td>0</td>\n",
       "      <td>0</td>\n",
       "    </tr>\n",
       "    <tr>\n",
       "      <td>4</td>\n",
       "      <td>1</td>\n",
       "      <td>1</td>\n",
       "      <td>0</td>\n",
       "      <td>0</td>\n",
       "      <td>1</td>\n",
       "      <td>0</td>\n",
       "      <td>2</td>\n",
       "      <td>0</td>\n",
       "      <td>0</td>\n",
       "      <td>1</td>\n",
       "    </tr>\n",
       "  </tbody>\n",
       "</table>\n",
       "</div>"
      ],
      "text/plain": [
       "   ADDRTYPE  JUNCTIONTYPE  INATTENTIONIND  UNDERINFL  WEATHER  ROADCOND  \\\n",
       "0         2             0               0          0        1         0   \n",
       "1         2             0               0          0        3         3   \n",
       "2         1             2               0          0        1         0   \n",
       "3         2             0               0          0        3         3   \n",
       "4         1             1               0          0        1         0   \n",
       "\n",
       "   LIGHTCOND  SPEEDING  RiskTime  weekend  \n",
       "0          2         0         2        0  \n",
       "1          1         0         0        0  \n",
       "2          2         0         2        0  \n",
       "3          1         0         0        0  \n",
       "4          2         0         0        1  "
      ]
     },
     "execution_count": 88,
     "metadata": {},
     "output_type": "execute_result"
    }
   ],
   "source": [
    "print(Feature.shape)\n",
    "dummy_Feature = pd.get_dummies(Feature)\n",
    "# dummy_variable_1.rename(columns={'Block':'AddType-Block', 'Intersection':'AddType-Intersection'}, inplace=True)\n",
    "print(\"----After Dummy Fuction------\")\n",
    "print(dummy_Feature.shape)\n",
    "dummy_Feature.head(5)"
   ]
  },
  {
   "cell_type": "code",
   "execution_count": 89,
   "metadata": {},
   "outputs": [],
   "source": [
    "X = dummy_Feature.values"
   ]
  },
  {
   "cell_type": "markdown",
   "metadata": {},
   "source": [
    "### Model"
   ]
  },
  {
   "cell_type": "code",
   "execution_count": 96,
   "metadata": {},
   "outputs": [
    {
     "name": "stdout",
     "output_type": "stream",
     "text": [
      "Train set: (132759, 10) (132759,)\n",
      "Test set: (88507, 10) (88507,)\n"
     ]
    }
   ],
   "source": [
    "from sklearn.model_selection import train_test_split\n",
    "#Test/Train split\n",
    "X_train_raw, X_test, y_train_raw, y_test = train_test_split(X, y, test_size=0.4, random_state=4)\n",
    "print ('Train set:', X_train_raw.shape,  y_train_raw.shape)\n",
    "print ('Test set:', X_test.shape,  y_test.shape)"
   ]
  },
  {
   "cell_type": "code",
   "execution_count": null,
   "metadata": {},
   "outputs": [],
   "source": [
    "import imblearn\n",
    "from imblearn.over_sampling import SMOTE\n",
    "\n",
    "os = SMOTE (random_state=0)\n",
    "X_train, y_train = os.fit_sample(X_train_raw, y_train_raw)\n",
    "print ('Train set:', X_train.shape,  y_train.shape)"
   ]
  },
  {
   "cell_type": "code",
   "execution_count": null,
   "metadata": {},
   "outputs": [],
   "source": [
    "print(\"----------Sample % before SMOTE--------------\")\n",
    "print(y_train_raw.value_counts()/len(y_train_raw))\n",
    "print(\"----------Sample % After SMOTE --------------\")\n",
    "print(pd.Series(y_train).value_counts()/len(y_train))"
   ]
  },
  {
   "cell_type": "markdown",
   "metadata": {},
   "source": [
    "### Classification"
   ]
  },
  {
   "cell_type": "markdown",
   "metadata": {},
   "source": [
    "### K Nearest Neighbor(KNN)"
   ]
  },
  {
   "cell_type": "code",
   "execution_count": null,
   "metadata": {},
   "outputs": [],
   "source": [
    "from sklearn.model_selection import GridSearchCV\n",
    "from sklearn import metrics\n",
    "\n",
    "# Find the best K between 1 an 10\n",
    "grid_params = {'n_neighbors': [i for i in range(1, 10)]}\n",
    "grid = GridSearchCV(KNeighborsClassifier(),grid_params,cv = 5)\n",
    "grid_results = grid.fit(X_train, y_train)"
   ]
  },
  {
   "cell_type": "code",
   "execution_count": null,
   "metadata": {},
   "outputs": [],
   "source": [
    "sns.set_style(\"whitegrid\")\n",
    "sns.lineplot(grid_params['n_neighbors'], grid_results.cv_results_['mean_test_score'], palette=\"hls\", linewidth=2)"
   ]
  },
  {
   "cell_type": "code",
   "execution_count": null,
   "metadata": {},
   "outputs": [],
   "source": [
    "print(\"The best n_neighbors was  : \", grid_results.best_params_['n_neighbors'])\n",
    "print(\"The best accuracy was with:\", grid_results.best_score_.round(2))"
   ]
  },
  {
   "cell_type": "code",
   "execution_count": null,
   "metadata": {},
   "outputs": [],
   "source": [
    "neigh = KNeighborsClassifier(n_neighbors = 6).fit(X_train,y_train)\n",
    "yhat_train = neigh.predict(X_train)"
   ]
  },
  {
   "cell_type": "code",
   "execution_count": null,
   "metadata": {},
   "outputs": [],
   "source": [
    "print(\"KNN Accuracy     : {:.2f}\".format(metrics.accuracy_score(y_train, yhat_train)))\n",
    "print(\"KNN Jaccard index: {:.2f}\".format(metrics.jaccard_score(y_train, yhat_train)))\n",
    "print(\"KNN F1-score     : {:.2f}\".format(metrics.f1_score(y_train, yhat_train, average='weighted')))"
   ]
  },
  {
   "cell_type": "code",
   "execution_count": null,
   "metadata": {},
   "outputs": [],
   "source": [
    "import sklearn\n",
    "from sklearn.metrics import classification_report, confusion_matrix\n",
    "from sklearn.metrics import plot_confusion_matrix\n",
    "\n",
    "print(confusion_matrix(y_train, yhat_train))\n",
    "print(classification_report(y_train, yhat_train))\n",
    "\n",
    "plot_confusion_matrix(neigh, X_train, y_train, include_values=True)\n",
    "plt.show()"
   ]
  },
  {
   "cell_type": "code",
   "execution_count": null,
   "metadata": {},
   "outputs": [],
   "source": [
    "yhat_test = neigh.predict(X_test)\n",
    "\n",
    "print(confusion_matrix(y_test, yhat_test))\n",
    "print(classification_report(y_test, yhat_test))\n",
    "\n",
    "plot_confusion_matrix(neigh, X_test, y_test, include_values=True)\n",
    "plt.show()"
   ]
  },
  {
   "cell_type": "code",
   "execution_count": null,
   "metadata": {},
   "outputs": [],
   "source": [
    "import sklearn.metrics as metrics\n",
    "# calculate the fpr and tpr for all thresholds of the classification\n",
    "probs = neigh.predict_proba(X_test)\n",
    "preds = probs[:,1]\n",
    "fpr, tpr, threshold = metrics.roc_curve(y_test, preds)\n",
    "roc_auc = metrics.auc(fpr, tpr)\n",
    "\n",
    "# method I: plt\n",
    "import matplotlib.pyplot as plt\n",
    "plt.title('Receiver Operating Characteristic')\n",
    "plt.plot(fpr, tpr, 'b', label = 'AUC = %0.2f' % roc_auc)\n",
    "plt.legend(loc = 'lower right')\n",
    "plt.plot([0, 1], [0, 1],'r--')\n",
    "plt.xlim([0, 1])\n",
    "plt.ylim([0, 1])\n",
    "plt.ylabel('True Positive Rate')\n",
    "plt.xlabel('False Positive Rate')\n",
    "plt.show()"
   ]
  },
  {
   "cell_type": "markdown",
   "metadata": {},
   "source": [
    "### Decision Tree"
   ]
  },
  {
   "cell_type": "code",
   "execution_count": null,
   "metadata": {},
   "outputs": [],
   "source": [
    "from sklearn.tree import DecisionTreeClassifier\n",
    "from sklearn import tree\n",
    "import graphviz\n",
    "import matplotlib.image as mpimg\n",
    "\n",
    "# Find the best para\n",
    "tree_grid_params = {'criterion': ['entropy'], 'max_depth': [i for i in range(3,30)]}\n",
    "tree_grid = GridSearchCV(tree.DecisionTreeClassifier(), tree_grid_params, cv = 3)\n",
    "tree_grid_results = tree_grid.fit(X_train, y_train)\n",
    "\n",
    "#plot the result of finding best para\n",
    "sns.set_style(\"whitegrid\")\n",
    "sns.lineplot(tree_grid_params['max_depth'], tree_grid_results.cv_results_['mean_test_score'], palette=\"hls\", linewidth=2)\n",
    "print(\"The best tree_depth was: \",tree_grid_results.best_params_[\"max_depth\"])\n",
    "print(\"The best accuracy was  : \",tree_grid_results.best_score_)"
   ]
  },
  {
   "cell_type": "code",
   "execution_count": null,
   "metadata": {},
   "outputs": [],
   "source": [
    "carTree = DecisionTreeClassifier(criterion=\"entropy\", max_depth = tree_grid_results.best_params_.get('max_depth'))\n",
    "carTree.fit(X_train,y_train)\n",
    "y_predTree = carTree.predict(X_train)"
   ]
  },
  {
   "cell_type": "code",
   "execution_count": null,
   "metadata": {},
   "outputs": [],
   "source": [
    "print(\"loanTree Jaccard index: {:.2f}\".format(metrics.jaccard_score(y_train, y_predTree)))\n",
    "print(\"loanTree F1-score     : {:.2f}\".format(metrics.f1_score(y_train, y_predTree, average='weighted')))"
   ]
  },
  {
   "cell_type": "code",
   "execution_count": null,
   "metadata": {},
   "outputs": [],
   "source": [
    "import sklearn\n",
    "from sklearn.metrics import classification_report, confusion_matrix\n",
    "from sklearn.metrics import plot_confusion_matrix\n",
    "\n",
    "print(confusion_matrix(y_train, y_predTree))\n",
    "print(classification_report(y_train, y_predTree))\n",
    "\n",
    "plot_confusion_matrix(carTree, X_train, y_train, include_values=True)\n",
    "plt.show()"
   ]
  },
  {
   "cell_type": "code",
   "execution_count": null,
   "metadata": {},
   "outputs": [],
   "source": [
    "y_test_predTree = carTree.predict(X_test)\n",
    "print(confusion_matrix(y_test, y_test_predTree))\n",
    "print(classification_report(y_test, y_test_predTree))"
   ]
  },
  {
   "cell_type": "code",
   "execution_count": null,
   "metadata": {},
   "outputs": [],
   "source": [
    "plot_confusion_matrix(carTree, X_test, y_test, include_values=True)\n",
    "plt.show()"
   ]
  },
  {
   "cell_type": "code",
   "execution_count": null,
   "metadata": {},
   "outputs": [],
   "source": [
    "import pandas as pd\n",
    "import numpy as np\n",
    "from sklearn import tree\n",
    "import pydot\n",
    "from IPython.display import Image\n",
    "from sklearn.externals.six import StringIO\n",
    "\n",
    "X = df[['ADDRTYPE', 'JUNCTIONTYPE', 'INATTENTIONIND', 'UNDERINFL', 'WEATHER', 'ROADCOND',\n",
    "       'LIGHTCOND', 'SPEEDING', 'RiskTime','weekend']]\n",
    "\n",
    "from sklearn import tree\n",
    "plt.figure(figsize=(40,20))  \n",
    "_ = tree.plot_tree(carTree, feature_names = X.columns, \n",
    "             filled=True, fontsize=6, rounded = True)\n",
    "plt.show()\n",
    "plt.savefig('filename.png')"
   ]
  },
  {
   "cell_type": "markdown",
   "metadata": {},
   "source": [
    "### Logistic Regression"
   ]
  },
  {
   "cell_type": "code",
   "execution_count": null,
   "metadata": {},
   "outputs": [],
   "source": [
    "from sklearn.linear_model import LogisticRegression\n",
    "from sklearn.metrics import confusion_matrix\n",
    "\n",
    "# find the best para\n",
    "grid_params = {\"C\":np.logspace(-3,3,7), \"penalty\":[\"l1\",\"l2\"]} # l1 lasso l2 ridge\n",
    "LR_grid = GridSearchCV(LogisticRegression(),grid_params,cv=3)\n",
    "LR_grid.fit(X_train,y_train)\n",
    "\n",
    "print(\"The best parameter was: \",LR_grid.best_params_) # {'C': 0.001, 'penalty': 'l2'}\n",
    "print(\"The best accuracy was : \",LR_grid.best_score_)"
   ]
  },
  {
   "cell_type": "code",
   "execution_count": null,
   "metadata": {},
   "outputs": [],
   "source": [
    "LR = LogisticRegression(C=0.01, solver='liblinear',penalty='l2').fit(X,y)\n",
    "yhat_train_LR = LR.predict(X_train)\n",
    "yhat_train_LR_prob = LR.predict_proba(X_train)"
   ]
  },
  {
   "cell_type": "code",
   "execution_count": null,
   "metadata": {},
   "outputs": [],
   "source": [
    "print(\"LR Jaccard index: {:.2f}\".format(metrics.jaccard_score(y_train, yhat_train_LR)))\n",
    "print(\"LR F1-score     : {:.2f}\".format(metrics.f1_score(y_train, yhat_train_LR, average='weighted')))\n",
    "print(\"LR Log Loss     : {:.2f}\".format(metrics.log_loss(y_train, yhat_train_LR_prob)))"
   ]
  },
  {
   "cell_type": "code",
   "execution_count": null,
   "metadata": {},
   "outputs": [],
   "source": [
    "import sklearn\n",
    "from sklearn.metrics import classification_report, confusion_matrix\n",
    "from sklearn.metrics import plot_confusion_matrix\n",
    "\n",
    "print(confusion_matrix(y_train, yhat_train_LR))\n",
    "print(classification_report(y_train, yhat_train_LR))\n",
    "\n",
    "plot_confusion_matrix(LR, X_train, y_train, include_values=True)\n",
    "plt.show()"
   ]
  },
  {
   "cell_type": "code",
   "execution_count": null,
   "metadata": {},
   "outputs": [],
   "source": [
    "yhat_test_LR = LR.predict(X_test)\n",
    "\n",
    "print(confusion_matrix(y_test, yhat_test_LR))\n",
    "print(classification_report(y_test, yhat_test_LR))\n",
    "\n",
    "plot_confusion_matrix(LR, X_test, y_test, include_values=True)\n",
    "plt.show()"
   ]
  },
  {
   "cell_type": "code",
   "execution_count": null,
   "metadata": {},
   "outputs": [],
   "source": []
  }
 ],
 "metadata": {
  "kernelspec": {
   "display_name": "Python 3",
   "language": "python",
   "name": "python3"
  },
  "language_info": {
   "codemirror_mode": {
    "name": "ipython",
    "version": 3
   },
   "file_extension": ".py",
   "mimetype": "text/x-python",
   "name": "python",
   "nbconvert_exporter": "python",
   "pygments_lexer": "ipython3",
   "version": "3.7.4"
  }
 },
 "nbformat": 4,
 "nbformat_minor": 4
}
